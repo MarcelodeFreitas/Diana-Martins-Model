{
 "cells": [
  {
   "cell_type": "code",
   "execution_count": 1,
   "metadata": {},
   "outputs": [
    {
     "name": "stderr",
     "output_type": "stream",
     "text": [
      "c:\\Users\\pc\\Desktop\\Diana-Martins-Model\\env\\lib\\site-packages\\pydub\\utils.py:170: RuntimeWarning: Couldn't find ffmpeg or avconv - defaulting to ffmpeg, but may not work\n",
      "  warn(\"Couldn't find ffmpeg or avconv - defaulting to ffmpeg, but may not work\", RuntimeWarning)\n"
     ]
    }
   ],
   "source": [
    "import os\n",
    "import pandas as pd\n",
    "import glob\n",
    "import numpy as np\n",
    "import librosa\n",
    "import plotly.graph_objs as go\n",
    "from xgboost.sklearn import XGBClassifier\n",
    "from pydub import AudioSegment"
   ]
  },
  {
   "cell_type": "code",
   "execution_count": 2,
   "metadata": {},
   "outputs": [],
   "source": [
    "model = XGBClassifier()\n",
    "model.load_model(\"best_model_diana_martins.json\")"
   ]
  },
  {
   "cell_type": "code",
   "execution_count": 12,
   "metadata": {},
   "outputs": [],
   "source": [
    "def create_timestamps(input_audio_path):\n",
    "    os.makedirs('./timestamps', exist_ok=True)\n",
    "    audio_file= input_audio_path\n",
    "    audio = AudioSegment.from_wav(audio_file)\n",
    "    list_of_timestamps = [5, 10, 15, 20, 25, 30] #and so on in *seconds*\n",
    "\n",
    "    start = 0\n",
    "    for  idx,t in enumerate(list_of_timestamps):\n",
    "        #break loop if at last element of list\n",
    "        if idx == len(list_of_timestamps):\n",
    "            break\n",
    "\n",
    "        end = t * 1000 #pydub works in millisec\n",
    "        \"\"\" print(\"split at [ {}:{}] ms\".format(start, end)) \"\"\"\n",
    "        audio_chunk=audio[start:end]\n",
    "        audio_chunk.export( \"./timestamps/timestamp_{}.wav\".format(end), format=\"wav\") \n",
    "\n",
    "        start = end  #pydub works in millisec\n",
    "\n",
    "create_timestamps(\"./input/classical.00010.wav\")"
   ]
  },
  {
   "cell_type": "code",
   "execution_count": 4,
   "metadata": {},
   "outputs": [
    {
     "data": {
      "text/plain": [
       "' print(header) '"
      ]
     },
     "execution_count": 4,
     "metadata": {},
     "output_type": "execute_result"
    }
   ],
   "source": [
    "#csv\n",
    "def create_csv_header():\n",
    "    header = ['filename','label','chroma_stft','mel_spectogram','spectral_contrast','tonnetz']\n",
    "    for i in range(1, 41):\n",
    "        header.append(f' mfcc{i}')\n",
    "    return header\n",
    "\n",
    "header = create_csv_header()"
   ]
  },
  {
   "cell_type": "code",
   "execution_count": 5,
   "metadata": {},
   "outputs": [],
   "source": [
    "PATH_CSV_TIMESTAMPS = './features_timestamps.csv' #output csv file name\n",
    "PATH_TIMESTAMPS = './timestamps'"
   ]
  },
  {
   "cell_type": "code",
   "execution_count": 6,
   "metadata": {},
   "outputs": [],
   "source": [
    "def generate_csv_music(PATH_TIMESTAMPS, path_csv, file_ext='*.wav'):\n",
    "    if os.path.exists(path_csv):\n",
    "        print(f'CSV {path_csv} already exists')\n",
    "    else:\n",
    "        sound_cases=[]\n",
    "        for fn in glob.glob(os.path.join(PATH_TIMESTAMPS, file_ext)): #classical music\n",
    "            filename = fn.split('\\\\')[1]\n",
    "            label = 3\n",
    "            sound_data=[filename]\n",
    "            sound_data.append(label)\n",
    "            sound = f'{PATH_TIMESTAMPS}/{filename}'\n",
    "            X, sr = librosa.load(sound)\n",
    "            stft = np.abs(librosa.stft(X))\n",
    "            sound_data.append(np.mean(librosa.feature.chroma_stft(S=stft, sr=sr)))\n",
    "            sound_data.append(np.mean(librosa.feature.melspectrogram(X, sr=sr)))\n",
    "            sound_data.append(np.mean(librosa.feature.spectral_contrast(S=stft, sr=sr)))\n",
    "            sound_data.append(np.mean(librosa.feature.tonnetz(y=librosa.effects.harmonic(X), sr=sr)))\n",
    "            mfcc = librosa.feature.mfcc(y=X, sr=sr, n_mfcc=40)\n",
    "            for e in mfcc:\n",
    "                sound_data.append(np.mean(e))\n",
    "            sound_cases.append(sound_data)\n",
    "                \n",
    "        df = pd.DataFrame(sound_cases, columns = header) \n",
    "        df.to_csv(path_csv)\n",
    "        \n",
    "generate_csv_music(PATH_TIMESTAMPS, PATH_CSV_TIMESTAMPS)"
   ]
  },
  {
   "cell_type": "code",
   "execution_count": 7,
   "metadata": {},
   "outputs": [],
   "source": [
    "DATA_3=pd.read_csv(PATH_CSV_TIMESTAMPS)"
   ]
  },
  {
   "cell_type": "code",
   "execution_count": 8,
   "metadata": {},
   "outputs": [
    {
     "name": "stdout",
     "output_type": "stream",
     "text": [
      "X_TEST: (6, 44)\n",
      "Y_TEST: (6,)\n"
     ]
    }
   ],
   "source": [
    "def load_data(data):  \n",
    "    X_TEST = data.drop([data.columns[0],'filename', 'label'],axis=1)#droping first column, filename column and label column \n",
    "    Y_TEST = data['label']\n",
    "    print('X_TEST:', X_TEST.shape)\n",
    "    print('Y_TEST:', Y_TEST.shape)\n",
    "    return (X_TEST, Y_TEST)\n",
    "\n",
    "(X_TEST,Y_TEST) = load_data(DATA_3)"
   ]
  },
  {
   "cell_type": "code",
   "execution_count": 9,
   "metadata": {},
   "outputs": [],
   "source": [
    "def largest_indices(ary, n):\n",
    "    \"\"\"Returns the n largest indices from a numpy array.\"\"\"\n",
    "    flat = ary.flatten()\n",
    "    indices = np.argpartition(flat, -n)[-n:]\n",
    "    indices = indices[np.argsort(-flat[indices])]\n",
    "    return indices"
   ]
  },
  {
   "cell_type": "code",
   "execution_count": 10,
   "metadata": {},
   "outputs": [],
   "source": [
    "def truncate(n, decimals=0):\n",
    "    multiplier = 10 ** decimals\n",
    "    return int(n * multiplier) / multiplier"
   ]
  },
  {
   "cell_type": "code",
   "execution_count": 11,
   "metadata": {},
   "outputs": [
    {
     "data": {
      "application/vnd.plotly.v1+json": {
       "config": {
        "plotlyServerURL": "https://plot.ly"
       },
       "data": [
        {
         "cells": {
          "align": "center",
          "fill": {
           "color": [
            "lightgrey",
            "white"
           ]
          },
          "values": [
           [
            3,
            3,
            3,
            3,
            3,
            3
           ],
           [
            0,
            2,
            2,
            2,
            2,
            0
           ],
           [
            0.533,
            0.657,
            0.612,
            0.606,
            0.554,
            0.478
           ],
           [
            2,
            0,
            0,
            0,
            0,
            2
           ],
           [
            0.242,
            0.276,
            0.305,
            0.293,
            0.295,
            0.373
           ],
           [
            1,
            1,
            1,
            1,
            1,
            1
           ],
           [
            0.223,
            0.065,
            0.081,
            0.1,
            0.149,
            0.148
           ]
          ]
         },
         "header": {
          "align": "center",
          "fill": {
           "color": "lavender"
          },
          "values": [
           "Y_test",
           "first_pred",
           "first_percent",
           "second_pred",
           "second_percent",
           "third_pred",
           "third_percent"
          ]
         },
         "type": "table"
        }
       ],
       "layout": {
        "template": {
         "data": {
          "bar": [
           {
            "error_x": {
             "color": "#2a3f5f"
            },
            "error_y": {
             "color": "#2a3f5f"
            },
            "marker": {
             "line": {
              "color": "#E5ECF6",
              "width": 0.5
             },
             "pattern": {
              "fillmode": "overlay",
              "size": 10,
              "solidity": 0.2
             }
            },
            "type": "bar"
           }
          ],
          "barpolar": [
           {
            "marker": {
             "line": {
              "color": "#E5ECF6",
              "width": 0.5
             },
             "pattern": {
              "fillmode": "overlay",
              "size": 10,
              "solidity": 0.2
             }
            },
            "type": "barpolar"
           }
          ],
          "carpet": [
           {
            "aaxis": {
             "endlinecolor": "#2a3f5f",
             "gridcolor": "white",
             "linecolor": "white",
             "minorgridcolor": "white",
             "startlinecolor": "#2a3f5f"
            },
            "baxis": {
             "endlinecolor": "#2a3f5f",
             "gridcolor": "white",
             "linecolor": "white",
             "minorgridcolor": "white",
             "startlinecolor": "#2a3f5f"
            },
            "type": "carpet"
           }
          ],
          "choropleth": [
           {
            "colorbar": {
             "outlinewidth": 0,
             "ticks": ""
            },
            "type": "choropleth"
           }
          ],
          "contour": [
           {
            "colorbar": {
             "outlinewidth": 0,
             "ticks": ""
            },
            "colorscale": [
             [
              0,
              "#0d0887"
             ],
             [
              0.1111111111111111,
              "#46039f"
             ],
             [
              0.2222222222222222,
              "#7201a8"
             ],
             [
              0.3333333333333333,
              "#9c179e"
             ],
             [
              0.4444444444444444,
              "#bd3786"
             ],
             [
              0.5555555555555556,
              "#d8576b"
             ],
             [
              0.6666666666666666,
              "#ed7953"
             ],
             [
              0.7777777777777778,
              "#fb9f3a"
             ],
             [
              0.8888888888888888,
              "#fdca26"
             ],
             [
              1,
              "#f0f921"
             ]
            ],
            "type": "contour"
           }
          ],
          "contourcarpet": [
           {
            "colorbar": {
             "outlinewidth": 0,
             "ticks": ""
            },
            "type": "contourcarpet"
           }
          ],
          "heatmap": [
           {
            "colorbar": {
             "outlinewidth": 0,
             "ticks": ""
            },
            "colorscale": [
             [
              0,
              "#0d0887"
             ],
             [
              0.1111111111111111,
              "#46039f"
             ],
             [
              0.2222222222222222,
              "#7201a8"
             ],
             [
              0.3333333333333333,
              "#9c179e"
             ],
             [
              0.4444444444444444,
              "#bd3786"
             ],
             [
              0.5555555555555556,
              "#d8576b"
             ],
             [
              0.6666666666666666,
              "#ed7953"
             ],
             [
              0.7777777777777778,
              "#fb9f3a"
             ],
             [
              0.8888888888888888,
              "#fdca26"
             ],
             [
              1,
              "#f0f921"
             ]
            ],
            "type": "heatmap"
           }
          ],
          "heatmapgl": [
           {
            "colorbar": {
             "outlinewidth": 0,
             "ticks": ""
            },
            "colorscale": [
             [
              0,
              "#0d0887"
             ],
             [
              0.1111111111111111,
              "#46039f"
             ],
             [
              0.2222222222222222,
              "#7201a8"
             ],
             [
              0.3333333333333333,
              "#9c179e"
             ],
             [
              0.4444444444444444,
              "#bd3786"
             ],
             [
              0.5555555555555556,
              "#d8576b"
             ],
             [
              0.6666666666666666,
              "#ed7953"
             ],
             [
              0.7777777777777778,
              "#fb9f3a"
             ],
             [
              0.8888888888888888,
              "#fdca26"
             ],
             [
              1,
              "#f0f921"
             ]
            ],
            "type": "heatmapgl"
           }
          ],
          "histogram": [
           {
            "marker": {
             "pattern": {
              "fillmode": "overlay",
              "size": 10,
              "solidity": 0.2
             }
            },
            "type": "histogram"
           }
          ],
          "histogram2d": [
           {
            "colorbar": {
             "outlinewidth": 0,
             "ticks": ""
            },
            "colorscale": [
             [
              0,
              "#0d0887"
             ],
             [
              0.1111111111111111,
              "#46039f"
             ],
             [
              0.2222222222222222,
              "#7201a8"
             ],
             [
              0.3333333333333333,
              "#9c179e"
             ],
             [
              0.4444444444444444,
              "#bd3786"
             ],
             [
              0.5555555555555556,
              "#d8576b"
             ],
             [
              0.6666666666666666,
              "#ed7953"
             ],
             [
              0.7777777777777778,
              "#fb9f3a"
             ],
             [
              0.8888888888888888,
              "#fdca26"
             ],
             [
              1,
              "#f0f921"
             ]
            ],
            "type": "histogram2d"
           }
          ],
          "histogram2dcontour": [
           {
            "colorbar": {
             "outlinewidth": 0,
             "ticks": ""
            },
            "colorscale": [
             [
              0,
              "#0d0887"
             ],
             [
              0.1111111111111111,
              "#46039f"
             ],
             [
              0.2222222222222222,
              "#7201a8"
             ],
             [
              0.3333333333333333,
              "#9c179e"
             ],
             [
              0.4444444444444444,
              "#bd3786"
             ],
             [
              0.5555555555555556,
              "#d8576b"
             ],
             [
              0.6666666666666666,
              "#ed7953"
             ],
             [
              0.7777777777777778,
              "#fb9f3a"
             ],
             [
              0.8888888888888888,
              "#fdca26"
             ],
             [
              1,
              "#f0f921"
             ]
            ],
            "type": "histogram2dcontour"
           }
          ],
          "mesh3d": [
           {
            "colorbar": {
             "outlinewidth": 0,
             "ticks": ""
            },
            "type": "mesh3d"
           }
          ],
          "parcoords": [
           {
            "line": {
             "colorbar": {
              "outlinewidth": 0,
              "ticks": ""
             }
            },
            "type": "parcoords"
           }
          ],
          "pie": [
           {
            "automargin": true,
            "type": "pie"
           }
          ],
          "scatter": [
           {
            "marker": {
             "colorbar": {
              "outlinewidth": 0,
              "ticks": ""
             }
            },
            "type": "scatter"
           }
          ],
          "scatter3d": [
           {
            "line": {
             "colorbar": {
              "outlinewidth": 0,
              "ticks": ""
             }
            },
            "marker": {
             "colorbar": {
              "outlinewidth": 0,
              "ticks": ""
             }
            },
            "type": "scatter3d"
           }
          ],
          "scattercarpet": [
           {
            "marker": {
             "colorbar": {
              "outlinewidth": 0,
              "ticks": ""
             }
            },
            "type": "scattercarpet"
           }
          ],
          "scattergeo": [
           {
            "marker": {
             "colorbar": {
              "outlinewidth": 0,
              "ticks": ""
             }
            },
            "type": "scattergeo"
           }
          ],
          "scattergl": [
           {
            "marker": {
             "colorbar": {
              "outlinewidth": 0,
              "ticks": ""
             }
            },
            "type": "scattergl"
           }
          ],
          "scattermapbox": [
           {
            "marker": {
             "colorbar": {
              "outlinewidth": 0,
              "ticks": ""
             }
            },
            "type": "scattermapbox"
           }
          ],
          "scatterpolar": [
           {
            "marker": {
             "colorbar": {
              "outlinewidth": 0,
              "ticks": ""
             }
            },
            "type": "scatterpolar"
           }
          ],
          "scatterpolargl": [
           {
            "marker": {
             "colorbar": {
              "outlinewidth": 0,
              "ticks": ""
             }
            },
            "type": "scatterpolargl"
           }
          ],
          "scatterternary": [
           {
            "marker": {
             "colorbar": {
              "outlinewidth": 0,
              "ticks": ""
             }
            },
            "type": "scatterternary"
           }
          ],
          "surface": [
           {
            "colorbar": {
             "outlinewidth": 0,
             "ticks": ""
            },
            "colorscale": [
             [
              0,
              "#0d0887"
             ],
             [
              0.1111111111111111,
              "#46039f"
             ],
             [
              0.2222222222222222,
              "#7201a8"
             ],
             [
              0.3333333333333333,
              "#9c179e"
             ],
             [
              0.4444444444444444,
              "#bd3786"
             ],
             [
              0.5555555555555556,
              "#d8576b"
             ],
             [
              0.6666666666666666,
              "#ed7953"
             ],
             [
              0.7777777777777778,
              "#fb9f3a"
             ],
             [
              0.8888888888888888,
              "#fdca26"
             ],
             [
              1,
              "#f0f921"
             ]
            ],
            "type": "surface"
           }
          ],
          "table": [
           {
            "cells": {
             "fill": {
              "color": "#EBF0F8"
             },
             "line": {
              "color": "white"
             }
            },
            "header": {
             "fill": {
              "color": "#C8D4E3"
             },
             "line": {
              "color": "white"
             }
            },
            "type": "table"
           }
          ]
         },
         "layout": {
          "annotationdefaults": {
           "arrowcolor": "#2a3f5f",
           "arrowhead": 0,
           "arrowwidth": 1
          },
          "autotypenumbers": "strict",
          "coloraxis": {
           "colorbar": {
            "outlinewidth": 0,
            "ticks": ""
           }
          },
          "colorscale": {
           "diverging": [
            [
             0,
             "#8e0152"
            ],
            [
             0.1,
             "#c51b7d"
            ],
            [
             0.2,
             "#de77ae"
            ],
            [
             0.3,
             "#f1b6da"
            ],
            [
             0.4,
             "#fde0ef"
            ],
            [
             0.5,
             "#f7f7f7"
            ],
            [
             0.6,
             "#e6f5d0"
            ],
            [
             0.7,
             "#b8e186"
            ],
            [
             0.8,
             "#7fbc41"
            ],
            [
             0.9,
             "#4d9221"
            ],
            [
             1,
             "#276419"
            ]
           ],
           "sequential": [
            [
             0,
             "#0d0887"
            ],
            [
             0.1111111111111111,
             "#46039f"
            ],
            [
             0.2222222222222222,
             "#7201a8"
            ],
            [
             0.3333333333333333,
             "#9c179e"
            ],
            [
             0.4444444444444444,
             "#bd3786"
            ],
            [
             0.5555555555555556,
             "#d8576b"
            ],
            [
             0.6666666666666666,
             "#ed7953"
            ],
            [
             0.7777777777777778,
             "#fb9f3a"
            ],
            [
             0.8888888888888888,
             "#fdca26"
            ],
            [
             1,
             "#f0f921"
            ]
           ],
           "sequentialminus": [
            [
             0,
             "#0d0887"
            ],
            [
             0.1111111111111111,
             "#46039f"
            ],
            [
             0.2222222222222222,
             "#7201a8"
            ],
            [
             0.3333333333333333,
             "#9c179e"
            ],
            [
             0.4444444444444444,
             "#bd3786"
            ],
            [
             0.5555555555555556,
             "#d8576b"
            ],
            [
             0.6666666666666666,
             "#ed7953"
            ],
            [
             0.7777777777777778,
             "#fb9f3a"
            ],
            [
             0.8888888888888888,
             "#fdca26"
            ],
            [
             1,
             "#f0f921"
            ]
           ]
          },
          "colorway": [
           "#636efa",
           "#EF553B",
           "#00cc96",
           "#ab63fa",
           "#FFA15A",
           "#19d3f3",
           "#FF6692",
           "#B6E880",
           "#FF97FF",
           "#FECB52"
          ],
          "font": {
           "color": "#2a3f5f"
          },
          "geo": {
           "bgcolor": "white",
           "lakecolor": "white",
           "landcolor": "#E5ECF6",
           "showlakes": true,
           "showland": true,
           "subunitcolor": "white"
          },
          "hoverlabel": {
           "align": "left"
          },
          "hovermode": "closest",
          "mapbox": {
           "style": "light"
          },
          "paper_bgcolor": "white",
          "plot_bgcolor": "#E5ECF6",
          "polar": {
           "angularaxis": {
            "gridcolor": "white",
            "linecolor": "white",
            "ticks": ""
           },
           "bgcolor": "#E5ECF6",
           "radialaxis": {
            "gridcolor": "white",
            "linecolor": "white",
            "ticks": ""
           }
          },
          "scene": {
           "xaxis": {
            "backgroundcolor": "#E5ECF6",
            "gridcolor": "white",
            "gridwidth": 2,
            "linecolor": "white",
            "showbackground": true,
            "ticks": "",
            "zerolinecolor": "white"
           },
           "yaxis": {
            "backgroundcolor": "#E5ECF6",
            "gridcolor": "white",
            "gridwidth": 2,
            "linecolor": "white",
            "showbackground": true,
            "ticks": "",
            "zerolinecolor": "white"
           },
           "zaxis": {
            "backgroundcolor": "#E5ECF6",
            "gridcolor": "white",
            "gridwidth": 2,
            "linecolor": "white",
            "showbackground": true,
            "ticks": "",
            "zerolinecolor": "white"
           }
          },
          "shapedefaults": {
           "line": {
            "color": "#2a3f5f"
           }
          },
          "ternary": {
           "aaxis": {
            "gridcolor": "white",
            "linecolor": "white",
            "ticks": ""
           },
           "baxis": {
            "gridcolor": "white",
            "linecolor": "white",
            "ticks": ""
           },
           "bgcolor": "#E5ECF6",
           "caxis": {
            "gridcolor": "white",
            "linecolor": "white",
            "ticks": ""
           }
          },
          "title": {
           "x": 0.05
          },
          "xaxis": {
           "automargin": true,
           "gridcolor": "white",
           "linecolor": "white",
           "ticks": "",
           "title": {
            "standoff": 15
           },
           "zerolinecolor": "white",
           "zerolinewidth": 2
          },
          "yaxis": {
           "automargin": true,
           "gridcolor": "white",
           "linecolor": "white",
           "ticks": "",
           "title": {
            "standoff": 15
           },
           "zerolinecolor": "white",
           "zerolinewidth": 2
          }
         }
        }
       }
      }
     },
     "metadata": {},
     "output_type": "display_data"
    },
    {
     "name": "stdout",
     "output_type": "stream",
     "text": [
      "Mean of timestamps: 1\n"
     ]
    }
   ],
   "source": [
    "def series_prediction_3(sound, label):\n",
    "    sounds = []\n",
    "    audio = []\n",
    "    first_preds = []\n",
    "    first_percent = []\n",
    "    second_preds = []\n",
    "    second_percent = []\n",
    "    third_preds = []\n",
    "    third_percent = []\n",
    "    for i in range(len(sound)): #para imprimir tabela de previsoes\n",
    "        predictions = model.predict_proba(sound)\n",
    "        predic = largest_indices(predictions[i], 3)\n",
    "        percentage = predictions[i][predic]\n",
    "        \n",
    "        sounds.append(label[i])\n",
    "        #audio.append(display(Audio(AUDIO, autoplay=True, rate=rate)))\n",
    "        first_preds.append((predic)[0])\n",
    "        first_percent.append(truncate(percentage[0],3))\n",
    "        second_preds.append((predic)[1])\n",
    "        second_percent.append(truncate(percentage[1],3))\n",
    "        third_preds.append((predic)[2])\n",
    "        third_percent.append(truncate(percentage[2],3))\n",
    "        mean_first = sum(first_preds)/ len(first_preds)\n",
    "        mean_first = int(round(mean_first))\n",
    "        mean_second = sum(second_preds)/ len(second_preds)\n",
    "        mean_second = int(round(mean_second))\n",
    "        mean_third = sum(third_preds)/ len(third_preds)\n",
    "        mean_third = int(round(mean_third))\n",
    "       \n",
    "    data = {'Y_test':  sounds, #'Sound': audio, 'mean_first' : mean_first, 'mean_second' : mean_second,'mean_third': mean_third \n",
    "            'first_pred': first_preds,\n",
    "            'first_percent': first_percent,\n",
    "            'second_pred': second_preds,\n",
    "            'second_percent': second_percent,\n",
    "            'third_pred': third_preds,\n",
    "            'third_percent': third_percent\n",
    "           }\n",
    "    \n",
    "    df = pd.DataFrame(data)\n",
    "    fig = go.Figure(data=[go.Table(\n",
    "    header=dict(values=list(df.columns),\n",
    "                fill_color='lavender',\n",
    "                align='center'),\n",
    "    cells=dict(values=[df.Y_test, df.first_pred, df.first_percent, df.second_pred, # df.Sound,df.mean_first,df.mean_second,df.mean_third\n",
    "                       df.second_percent, df.third_pred, df.third_percent],\n",
    "               #fill_color='lightgrey',\n",
    "               fill=dict(color=['lightgrey', 'white']),\n",
    "               align='center'))])\n",
    "\n",
    "    fig.show()\n",
    "    fig.write_image(\"output.png\")\n",
    "    \n",
    "    print('Mean of timestamps:', mean_first)\n",
    "    \n",
    "    return df\n",
    "\n",
    "df = series_prediction_3(X_TEST, Y_TEST)"
   ]
  },
  {
   "cell_type": "code",
   "execution_count": null,
   "metadata": {},
   "outputs": [],
   "source": [
    "def load_models(modelpaths):\n",
    "    model = XGBClassifier()\n",
    "    try:\n",
    "        for i in modelpaths:\n",
    "            name = i[\"name\"]\n",
    "            path = i[\"path\"]\n",
    "            if (name == \"best_model_diana_martins.json\"):\n",
    "                model.load_model(path)\n",
    "        return True\n",
    "    except: \n",
    "        return False"
   ]
  },
  {
   "cell_type": "code",
   "execution_count": null,
   "metadata": {},
   "outputs": [],
   "source": [
    "def run(input_file_path, output_file_name, output_directory_path):\n",
    "    try:\n",
    "        create_timestamps(input_file_path)\n",
    "        csv_header = create_csv_header()\n",
    "        PATH_CSV_TIMESTAMPS = './features_timestamps.csv' #output csv file name\n",
    "        PATH_TIMESTAMPS = './timestamps'\n",
    "        generate_csv_music(csv_header, PATH_TIMESTAMPS, PATH_CSV_TIMESTAMPS)\n",
    "        DATA_3=pd.read_csv(PATH_CSV_TIMESTAMPS)\n",
    "        (X_TEST,Y_TEST) = load_data(DATA_3)\n",
    "        series_prediction_3(X_TEST, Y_TEST)\n",
    "    except:\n",
    "        print(\"error\")"
   ]
  },
  {
   "cell_type": "code",
   "execution_count": 5,
   "metadata": {},
   "outputs": [
    {
     "data": {
      "text/plain": [
       "'$2b$12$cm7LbkGUMSzbWe9fAdCXJO/lzivm49UHi4aEGR21bpbQ5aX6a4hdS'"
      ]
     },
     "execution_count": 5,
     "metadata": {},
     "output_type": "execute_result"
    }
   ],
   "source": [
    "from passlib.context import CryptContext\n",
    "\n",
    "pwd_cxt = CryptContext(schemes=[\"bcrypt\"], deprecated=\"auto\")\n",
    "\n",
    "pwd_cxt.hash(\"vEKV2@8ypq8*So\")"
   ]
  }
 ],
 "metadata": {
  "interpreter": {
   "hash": "674a9efdd39a0462ee620821ba758b3cf2e682c2fa47bfbd8abc81f95411ec22"
  },
  "kernelspec": {
   "display_name": "Python 3.7.7 64-bit ('env': venv)",
   "name": "python3"
  },
  "language_info": {
   "codemirror_mode": {
    "name": "ipython",
    "version": 3
   },
   "file_extension": ".py",
   "mimetype": "text/x-python",
   "name": "python",
   "nbconvert_exporter": "python",
   "pygments_lexer": "ipython3",
   "version": "3.7.7"
  }
 },
 "nbformat": 4,
 "nbformat_minor": 4
}
