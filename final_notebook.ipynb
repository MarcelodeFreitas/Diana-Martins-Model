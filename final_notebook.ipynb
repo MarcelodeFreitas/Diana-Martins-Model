{
 "cells": [
  {
   "cell_type": "code",
   "execution_count": 16,
   "metadata": {},
   "outputs": [
    {
     "ename": "ImportError",
     "evalue": "Numba needs NumPy 1.20 or less",
     "output_type": "error",
     "traceback": [
      "\u001b[1;31m---------------------------------------------------------------------------\u001b[0m",
      "\u001b[1;31mImportError\u001b[0m                               Traceback (most recent call last)",
      "\u001b[1;32m~\\AppData\\Local\\Temp/ipykernel_12360/2729485966.py\u001b[0m in \u001b[0;36m<module>\u001b[1;34m\u001b[0m\n\u001b[0;32m      3\u001b[0m \u001b[1;32mimport\u001b[0m \u001b[0mglob\u001b[0m\u001b[1;33m\u001b[0m\u001b[1;33m\u001b[0m\u001b[0m\n\u001b[0;32m      4\u001b[0m \u001b[1;32mimport\u001b[0m \u001b[0mnumpy\u001b[0m \u001b[1;32mas\u001b[0m \u001b[0mnp\u001b[0m\u001b[1;33m\u001b[0m\u001b[1;33m\u001b[0m\u001b[0m\n\u001b[1;32m----> 5\u001b[1;33m \u001b[1;32mimport\u001b[0m \u001b[0mlibrosa\u001b[0m\u001b[1;33m\u001b[0m\u001b[1;33m\u001b[0m\u001b[0m\n\u001b[0m\u001b[0;32m      6\u001b[0m \u001b[1;32mimport\u001b[0m \u001b[0mplotly\u001b[0m\u001b[1;33m.\u001b[0m\u001b[0mgraph_objs\u001b[0m \u001b[1;32mas\u001b[0m \u001b[0mgo\u001b[0m\u001b[1;33m\u001b[0m\u001b[1;33m\u001b[0m\u001b[0m\n\u001b[0;32m      7\u001b[0m \u001b[0mget_ipython\u001b[0m\u001b[1;33m(\u001b[0m\u001b[1;33m)\u001b[0m\u001b[1;33m.\u001b[0m\u001b[0mrun_line_magic\u001b[0m\u001b[1;33m(\u001b[0m\u001b[1;34m'matplotlib'\u001b[0m\u001b[1;33m,\u001b[0m \u001b[1;34m'inline'\u001b[0m\u001b[1;33m)\u001b[0m\u001b[1;33m\u001b[0m\u001b[1;33m\u001b[0m\u001b[0m\n",
      "\u001b[1;32mc:\\Users\\pc\\Desktop\\Diana-Martins-Model\\env\\lib\\site-packages\\librosa\\__init__.py\u001b[0m in \u001b[0;36m<module>\u001b[1;34m\u001b[0m\n\u001b[0;32m    209\u001b[0m \u001b[1;31m# And all the librosa sub-modules\u001b[0m\u001b[1;33m\u001b[0m\u001b[1;33m\u001b[0m\u001b[1;33m\u001b[0m\u001b[0m\n\u001b[0;32m    210\u001b[0m \u001b[1;32mfrom\u001b[0m \u001b[1;33m.\u001b[0m\u001b[0m_cache\u001b[0m \u001b[1;32mimport\u001b[0m \u001b[0mcache\u001b[0m\u001b[1;33m\u001b[0m\u001b[1;33m\u001b[0m\u001b[0m\n\u001b[1;32m--> 211\u001b[1;33m \u001b[1;32mfrom\u001b[0m \u001b[1;33m.\u001b[0m \u001b[1;32mimport\u001b[0m \u001b[0mcore\u001b[0m\u001b[1;33m\u001b[0m\u001b[1;33m\u001b[0m\u001b[0m\n\u001b[0m\u001b[0;32m    212\u001b[0m \u001b[1;32mfrom\u001b[0m \u001b[1;33m.\u001b[0m \u001b[1;32mimport\u001b[0m \u001b[0mbeat\u001b[0m\u001b[1;33m\u001b[0m\u001b[1;33m\u001b[0m\u001b[0m\n\u001b[0;32m    213\u001b[0m \u001b[1;32mfrom\u001b[0m \u001b[1;33m.\u001b[0m \u001b[1;32mimport\u001b[0m \u001b[0mdecompose\u001b[0m\u001b[1;33m\u001b[0m\u001b[1;33m\u001b[0m\u001b[0m\n",
      "\u001b[1;32mc:\\Users\\pc\\Desktop\\Diana-Martins-Model\\env\\lib\\site-packages\\librosa\\core\\__init__.py\u001b[0m in \u001b[0;36m<module>\u001b[1;34m\u001b[0m\n\u001b[0;32m      3\u001b[0m \u001b[1;34m\"\"\" Core IO and DSP functions\"\"\"\u001b[0m\u001b[1;33m\u001b[0m\u001b[1;33m\u001b[0m\u001b[0m\n\u001b[0;32m      4\u001b[0m \u001b[1;33m\u001b[0m\u001b[0m\n\u001b[1;32m----> 5\u001b[1;33m \u001b[1;32mfrom\u001b[0m \u001b[1;33m.\u001b[0m\u001b[0mconvert\u001b[0m \u001b[1;32mimport\u001b[0m \u001b[1;33m*\u001b[0m  \u001b[1;31m# pylint: disable=wildcard-import\u001b[0m\u001b[1;33m\u001b[0m\u001b[1;33m\u001b[0m\u001b[0m\n\u001b[0m\u001b[0;32m      6\u001b[0m \u001b[1;32mfrom\u001b[0m \u001b[1;33m.\u001b[0m\u001b[0maudio\u001b[0m \u001b[1;32mimport\u001b[0m \u001b[1;33m*\u001b[0m  \u001b[1;31m# pylint: disable=wildcard-import\u001b[0m\u001b[1;33m\u001b[0m\u001b[1;33m\u001b[0m\u001b[0m\n\u001b[0;32m      7\u001b[0m \u001b[1;32mfrom\u001b[0m \u001b[1;33m.\u001b[0m\u001b[0mspectrum\u001b[0m \u001b[1;32mimport\u001b[0m \u001b[1;33m*\u001b[0m  \u001b[1;31m# pylint: disable=wildcard-import\u001b[0m\u001b[1;33m\u001b[0m\u001b[1;33m\u001b[0m\u001b[0m\n",
      "\u001b[1;32mc:\\Users\\pc\\Desktop\\Diana-Martins-Model\\env\\lib\\site-packages\\librosa\\core\\convert.py\u001b[0m in \u001b[0;36m<module>\u001b[1;34m\u001b[0m\n\u001b[0;32m      5\u001b[0m \u001b[1;32mimport\u001b[0m \u001b[0mre\u001b[0m\u001b[1;33m\u001b[0m\u001b[1;33m\u001b[0m\u001b[0m\n\u001b[0;32m      6\u001b[0m \u001b[1;32mimport\u001b[0m \u001b[0mnumpy\u001b[0m \u001b[1;32mas\u001b[0m \u001b[0mnp\u001b[0m\u001b[1;33m\u001b[0m\u001b[1;33m\u001b[0m\u001b[0m\n\u001b[1;32m----> 7\u001b[1;33m \u001b[1;32mfrom\u001b[0m \u001b[1;33m.\u001b[0m \u001b[1;32mimport\u001b[0m \u001b[0mnotation\u001b[0m\u001b[1;33m\u001b[0m\u001b[1;33m\u001b[0m\u001b[0m\n\u001b[0m\u001b[0;32m      8\u001b[0m \u001b[1;32mfrom\u001b[0m \u001b[1;33m.\u001b[0m\u001b[1;33m.\u001b[0m\u001b[0mutil\u001b[0m\u001b[1;33m.\u001b[0m\u001b[0mexceptions\u001b[0m \u001b[1;32mimport\u001b[0m \u001b[0mParameterError\u001b[0m\u001b[1;33m\u001b[0m\u001b[1;33m\u001b[0m\u001b[0m\n\u001b[0;32m      9\u001b[0m \u001b[1;33m\u001b[0m\u001b[0m\n",
      "\u001b[1;32mc:\\Users\\pc\\Desktop\\Diana-Martins-Model\\env\\lib\\site-packages\\librosa\\core\\notation.py\u001b[0m in \u001b[0;36m<module>\u001b[1;34m\u001b[0m\n\u001b[0;32m      6\u001b[0m \u001b[1;32mimport\u001b[0m \u001b[0mnumpy\u001b[0m \u001b[1;32mas\u001b[0m \u001b[0mnp\u001b[0m\u001b[1;33m\u001b[0m\u001b[1;33m\u001b[0m\u001b[0m\n\u001b[0;32m      7\u001b[0m \u001b[1;32mfrom\u001b[0m \u001b[1;33m.\u001b[0m\u001b[1;33m.\u001b[0m\u001b[0m_cache\u001b[0m \u001b[1;32mimport\u001b[0m \u001b[0mcache\u001b[0m\u001b[1;33m\u001b[0m\u001b[1;33m\u001b[0m\u001b[0m\n\u001b[1;32m----> 8\u001b[1;33m \u001b[1;32mfrom\u001b[0m \u001b[1;33m.\u001b[0m\u001b[1;33m.\u001b[0m\u001b[0mutil\u001b[0m\u001b[1;33m.\u001b[0m\u001b[0mexceptions\u001b[0m \u001b[1;32mimport\u001b[0m \u001b[0mParameterError\u001b[0m\u001b[1;33m\u001b[0m\u001b[1;33m\u001b[0m\u001b[0m\n\u001b[0m\u001b[0;32m      9\u001b[0m \u001b[1;33m\u001b[0m\u001b[0m\n\u001b[0;32m     10\u001b[0m __all__ = [\n",
      "\u001b[1;32mc:\\Users\\pc\\Desktop\\Diana-Martins-Model\\env\\lib\\site-packages\\librosa\\util\\__init__.py\u001b[0m in \u001b[0;36m<module>\u001b[1;34m\u001b[0m\n\u001b[0;32m     81\u001b[0m \"\"\"\n\u001b[0;32m     82\u001b[0m \u001b[1;33m\u001b[0m\u001b[0m\n\u001b[1;32m---> 83\u001b[1;33m \u001b[1;32mfrom\u001b[0m \u001b[1;33m.\u001b[0m\u001b[0mutils\u001b[0m \u001b[1;32mimport\u001b[0m \u001b[1;33m*\u001b[0m  \u001b[1;31m# pylint: disable=wildcard-import\u001b[0m\u001b[1;33m\u001b[0m\u001b[1;33m\u001b[0m\u001b[0m\n\u001b[0m\u001b[0;32m     84\u001b[0m \u001b[1;32mfrom\u001b[0m \u001b[1;33m.\u001b[0m\u001b[0mfiles\u001b[0m \u001b[1;32mimport\u001b[0m \u001b[1;33m*\u001b[0m  \u001b[1;31m# pylint: disable=wildcard-import\u001b[0m\u001b[1;33m\u001b[0m\u001b[1;33m\u001b[0m\u001b[0m\n\u001b[0;32m     85\u001b[0m \u001b[1;32mfrom\u001b[0m \u001b[1;33m.\u001b[0m\u001b[0mmatching\u001b[0m \u001b[1;32mimport\u001b[0m \u001b[1;33m*\u001b[0m  \u001b[1;31m# pylint: disable=wildcard-import\u001b[0m\u001b[1;33m\u001b[0m\u001b[1;33m\u001b[0m\u001b[0m\n",
      "\u001b[1;32mc:\\Users\\pc\\Desktop\\Diana-Martins-Model\\env\\lib\\site-packages\\librosa\\util\\utils.py\u001b[0m in \u001b[0;36m<module>\u001b[1;34m\u001b[0m\n\u001b[0;32m      8\u001b[0m \u001b[1;33m\u001b[0m\u001b[0m\n\u001b[0;32m      9\u001b[0m \u001b[1;32mimport\u001b[0m \u001b[0mnumpy\u001b[0m \u001b[1;32mas\u001b[0m \u001b[0mnp\u001b[0m\u001b[1;33m\u001b[0m\u001b[1;33m\u001b[0m\u001b[0m\n\u001b[1;32m---> 10\u001b[1;33m \u001b[1;32mimport\u001b[0m \u001b[0mnumba\u001b[0m\u001b[1;33m\u001b[0m\u001b[1;33m\u001b[0m\u001b[0m\n\u001b[0m\u001b[0;32m     11\u001b[0m \u001b[1;32mfrom\u001b[0m \u001b[0mnumpy\u001b[0m\u001b[1;33m.\u001b[0m\u001b[0mlib\u001b[0m\u001b[1;33m.\u001b[0m\u001b[0mstride_tricks\u001b[0m \u001b[1;32mimport\u001b[0m \u001b[0mas_strided\u001b[0m\u001b[1;33m\u001b[0m\u001b[1;33m\u001b[0m\u001b[0m\n\u001b[0;32m     12\u001b[0m \u001b[1;33m\u001b[0m\u001b[0m\n",
      "\u001b[1;32mc:\\Users\\pc\\Desktop\\Diana-Martins-Model\\env\\lib\\site-packages\\numba\\__init__.py\u001b[0m in \u001b[0;36m<module>\u001b[1;34m\u001b[0m\n\u001b[0;32m    196\u001b[0m \u001b[1;33m\u001b[0m\u001b[0m\n\u001b[0;32m    197\u001b[0m \u001b[0m_ensure_llvm\u001b[0m\u001b[1;33m(\u001b[0m\u001b[1;33m)\u001b[0m\u001b[1;33m\u001b[0m\u001b[1;33m\u001b[0m\u001b[0m\n\u001b[1;32m--> 198\u001b[1;33m \u001b[0m_ensure_critical_deps\u001b[0m\u001b[1;33m(\u001b[0m\u001b[1;33m)\u001b[0m\u001b[1;33m\u001b[0m\u001b[1;33m\u001b[0m\u001b[0m\n\u001b[0m\u001b[0;32m    199\u001b[0m \u001b[1;33m\u001b[0m\u001b[0m\n\u001b[0;32m    200\u001b[0m \u001b[1;31m# we know llvmlite is working as the above tests passed, import it now as SVML\u001b[0m\u001b[1;33m\u001b[0m\u001b[1;33m\u001b[0m\u001b[1;33m\u001b[0m\u001b[0m\n",
      "\u001b[1;32mc:\\Users\\pc\\Desktop\\Diana-Martins-Model\\env\\lib\\site-packages\\numba\\__init__.py\u001b[0m in \u001b[0;36m_ensure_critical_deps\u001b[1;34m()\u001b[0m\n\u001b[0;32m    136\u001b[0m         \u001b[1;32mraise\u001b[0m \u001b[0mImportError\u001b[0m\u001b[1;33m(\u001b[0m\u001b[1;34m\"Numba needs NumPy 1.17 or greater\"\u001b[0m\u001b[1;33m)\u001b[0m\u001b[1;33m\u001b[0m\u001b[1;33m\u001b[0m\u001b[0m\n\u001b[0;32m    137\u001b[0m     \u001b[1;32melif\u001b[0m \u001b[0mnumpy_version\u001b[0m \u001b[1;33m>\u001b[0m \u001b[1;33m(\u001b[0m\u001b[1;36m1\u001b[0m\u001b[1;33m,\u001b[0m \u001b[1;36m20\u001b[0m\u001b[1;33m)\u001b[0m\u001b[1;33m:\u001b[0m\u001b[1;33m\u001b[0m\u001b[1;33m\u001b[0m\u001b[0m\n\u001b[1;32m--> 138\u001b[1;33m         \u001b[1;32mraise\u001b[0m \u001b[0mImportError\u001b[0m\u001b[1;33m(\u001b[0m\u001b[1;34m\"Numba needs NumPy 1.20 or less\"\u001b[0m\u001b[1;33m)\u001b[0m\u001b[1;33m\u001b[0m\u001b[1;33m\u001b[0m\u001b[0m\n\u001b[0m\u001b[0;32m    139\u001b[0m \u001b[1;33m\u001b[0m\u001b[0m\n\u001b[0;32m    140\u001b[0m     \u001b[1;32mtry\u001b[0m\u001b[1;33m:\u001b[0m\u001b[1;33m\u001b[0m\u001b[1;33m\u001b[0m\u001b[0m\n",
      "\u001b[1;31mImportError\u001b[0m: Numba needs NumPy 1.20 or less"
     ]
    }
   ],
   "source": [
    "import os\n",
    "import pandas as pd\n",
    "import glob\n",
    "import numpy as np\n",
    "import librosa\n",
    "import plotly.graph_objs as go\n",
    "%matplotlib inline\n",
    "from xgboost.sklearn import XGBClassifier\n",
    "from sklearn.preprocessing import OneHotEncoder\n",
    "from sklearn.model_selection import train_test_split\n",
    "from sklearn.metrics import accuracy_score\n",
    "import warnings\n",
    "warnings.filterwarnings('ignore')"
   ]
  },
  {
   "cell_type": "code",
   "execution_count": null,
   "metadata": {},
   "outputs": [
    {
     "data": {
      "text/plain": [
       "' def set_keras_backend(backend):\\n    print(\"A acertar o backend e libertar memória da grafica\")\\n    if K.backend() != backend:\\n        os.environ[\\'KERAS_BACKEND\\'] = backend\\n        importlib.reload(K)\\n        assert K.backend() == backend\\n    if backend == \"tensorflow\":\\n        # Allow memory growth for the GPU\\n        physical_devices = tf.config.experimental.list_physical_devices(\\'GPU\\')\\n        print(physical_devices)\\n        tf.config.experimental.set_memory_growth(physical_devices[0], True)  \\n\\n    \\ndef limit_mem():\\n    K.get_session().close()\\n    cfg = K.tf.ConfigProto()\\n    cfg.gpu_options.allow_growth = True\\n    K.set_session(K.tf.Session(config=cfg))\\n\\nset_keras_backend(\"tensorflow\") '"
      ]
     },
     "execution_count": 157,
     "metadata": {},
     "output_type": "execute_result"
    }
   ],
   "source": [
    "\"\"\" def set_keras_backend(backend):\n",
    "    print(\"A acertar o backend e libertar memória da grafica\")\n",
    "    if K.backend() != backend:\n",
    "        os.environ['KERAS_BACKEND'] = backend\n",
    "        importlib.reload(K)\n",
    "        assert K.backend() == backend\n",
    "    if backend == \"tensorflow\":\n",
    "        # Allow memory growth for the GPU\n",
    "        physical_devices = tf.config.experimental.list_physical_devices('GPU')\n",
    "        print(physical_devices)\n",
    "        tf.config.experimental.set_memory_growth(physical_devices[0], True)  \n",
    "\n",
    "    \n",
    "def limit_mem():\n",
    "    K.get_session().close()\n",
    "    cfg = K.tf.ConfigProto()\n",
    "    cfg.gpu_options.allow_growth = True\n",
    "    K.set_session(K.tf.Session(config=cfg))\n",
    "\n",
    "set_keras_backend(\"tensorflow\") \"\"\""
   ]
  },
  {
   "cell_type": "code",
   "execution_count": null,
   "metadata": {},
   "outputs": [],
   "source": [
    "#PATHS\n",
    "PATH_CSV = './features.csv'\n",
    "CLASSES_NAMES=['negative', 'positive', 'unknown']"
   ]
  },
  {
   "cell_type": "code",
   "execution_count": null,
   "metadata": {},
   "outputs": [
    {
     "data": {
      "text/html": [
       "<div>\n",
       "<style scoped>\n",
       "    .dataframe tbody tr th:only-of-type {\n",
       "        vertical-align: middle;\n",
       "    }\n",
       "\n",
       "    .dataframe tbody tr th {\n",
       "        vertical-align: top;\n",
       "    }\n",
       "\n",
       "    .dataframe thead th {\n",
       "        text-align: right;\n",
       "    }\n",
       "</style>\n",
       "<table border=\"1\" class=\"dataframe\">\n",
       "  <thead>\n",
       "    <tr style=\"text-align: right;\">\n",
       "      <th></th>\n",
       "      <th>Unnamed: 0</th>\n",
       "      <th>filename</th>\n",
       "      <th>label</th>\n",
       "      <th>chroma_stft</th>\n",
       "      <th>mel_spectogram</th>\n",
       "      <th>spectral_contrast</th>\n",
       "      <th>tonnetz</th>\n",
       "      <th>mfcc1</th>\n",
       "      <th>mfcc2</th>\n",
       "      <th>mfcc3</th>\n",
       "      <th>...</th>\n",
       "      <th>mfcc31</th>\n",
       "      <th>mfcc32</th>\n",
       "      <th>mfcc33</th>\n",
       "      <th>mfcc34</th>\n",
       "      <th>mfcc35</th>\n",
       "      <th>mfcc36</th>\n",
       "      <th>mfcc37</th>\n",
       "      <th>mfcc38</th>\n",
       "      <th>mfcc39</th>\n",
       "      <th>mfcc40</th>\n",
       "    </tr>\n",
       "  </thead>\n",
       "  <tbody>\n",
       "    <tr>\n",
       "      <th>0</th>\n",
       "      <td>0</td>\n",
       "      <td>4-164206-A-10.wav</td>\n",
       "      <td>10</td>\n",
       "      <td>0.868969</td>\n",
       "      <td>0.861374</td>\n",
       "      <td>15.341950</td>\n",
       "      <td>-0.000752</td>\n",
       "      <td>-48.946632</td>\n",
       "      <td>55.206245</td>\n",
       "      <td>-7.047971</td>\n",
       "      <td>...</td>\n",
       "      <td>-3.782364</td>\n",
       "      <td>1.401003</td>\n",
       "      <td>-2.568921</td>\n",
       "      <td>2.393073</td>\n",
       "      <td>-1.468146</td>\n",
       "      <td>2.555113</td>\n",
       "      <td>-1.484496</td>\n",
       "      <td>2.290247</td>\n",
       "      <td>-2.209650</td>\n",
       "      <td>1.044895</td>\n",
       "    </tr>\n",
       "    <tr>\n",
       "      <th>1</th>\n",
       "      <td>1</td>\n",
       "      <td>2-83270-A-13.wav</td>\n",
       "      <td>13</td>\n",
       "      <td>0.218590</td>\n",
       "      <td>0.031675</td>\n",
       "      <td>23.631527</td>\n",
       "      <td>0.027424</td>\n",
       "      <td>-549.716125</td>\n",
       "      <td>-63.588486</td>\n",
       "      <td>-38.799469</td>\n",
       "      <td>...</td>\n",
       "      <td>-17.556175</td>\n",
       "      <td>13.050779</td>\n",
       "      <td>-5.685339</td>\n",
       "      <td>0.622180</td>\n",
       "      <td>-2.255047</td>\n",
       "      <td>-0.585254</td>\n",
       "      <td>4.197667</td>\n",
       "      <td>-6.788848</td>\n",
       "      <td>5.966758</td>\n",
       "      <td>-6.047862</td>\n",
       "    </tr>\n",
       "    <tr>\n",
       "      <th>2</th>\n",
       "      <td>2</td>\n",
       "      <td>3-110913-A-7.wav</td>\n",
       "      <td>7</td>\n",
       "      <td>0.658248</td>\n",
       "      <td>0.830945</td>\n",
       "      <td>19.271990</td>\n",
       "      <td>-0.004003</td>\n",
       "      <td>-201.649429</td>\n",
       "      <td>101.756508</td>\n",
       "      <td>6.351685</td>\n",
       "      <td>...</td>\n",
       "      <td>-8.344519</td>\n",
       "      <td>-4.245569</td>\n",
       "      <td>-10.650942</td>\n",
       "      <td>-5.038177</td>\n",
       "      <td>-5.601541</td>\n",
       "      <td>-0.002323</td>\n",
       "      <td>-5.730710</td>\n",
       "      <td>-3.703166</td>\n",
       "      <td>-6.499656</td>\n",
       "      <td>-0.611325</td>\n",
       "    </tr>\n",
       "    <tr>\n",
       "      <th>3</th>\n",
       "      <td>3</td>\n",
       "      <td>4-144083-A-16.wav</td>\n",
       "      <td>16</td>\n",
       "      <td>0.785159</td>\n",
       "      <td>2.127163</td>\n",
       "      <td>16.364365</td>\n",
       "      <td>-0.003129</td>\n",
       "      <td>-145.423508</td>\n",
       "      <td>181.667603</td>\n",
       "      <td>-20.035183</td>\n",
       "      <td>...</td>\n",
       "      <td>-4.562034</td>\n",
       "      <td>0.138662</td>\n",
       "      <td>-3.261474</td>\n",
       "      <td>1.118976</td>\n",
       "      <td>-1.880353</td>\n",
       "      <td>2.038065</td>\n",
       "      <td>-0.930130</td>\n",
       "      <td>2.180940</td>\n",
       "      <td>-1.298151</td>\n",
       "      <td>0.926360</td>\n",
       "    </tr>\n",
       "    <tr>\n",
       "      <th>4</th>\n",
       "      <td>4</td>\n",
       "      <td>3-51376-A-42.wav</td>\n",
       "      <td>42</td>\n",
       "      <td>0.336802</td>\n",
       "      <td>13.715096</td>\n",
       "      <td>21.548095</td>\n",
       "      <td>-0.013215</td>\n",
       "      <td>-179.293137</td>\n",
       "      <td>170.124237</td>\n",
       "      <td>-58.605957</td>\n",
       "      <td>...</td>\n",
       "      <td>6.506222</td>\n",
       "      <td>1.723845</td>\n",
       "      <td>-5.902114</td>\n",
       "      <td>-5.278167</td>\n",
       "      <td>-1.353401</td>\n",
       "      <td>-0.057298</td>\n",
       "      <td>2.746562</td>\n",
       "      <td>4.565757</td>\n",
       "      <td>-3.365773</td>\n",
       "      <td>-6.954345</td>\n",
       "    </tr>\n",
       "  </tbody>\n",
       "</table>\n",
       "<p>5 rows × 47 columns</p>\n",
       "</div>"
      ],
      "text/plain": [
       "   Unnamed: 0           filename  label  chroma_stft  mel_spectogram  \\\n",
       "0           0  4-164206-A-10.wav     10     0.868969        0.861374   \n",
       "1           1   2-83270-A-13.wav     13     0.218590        0.031675   \n",
       "2           2   3-110913-A-7.wav      7     0.658248        0.830945   \n",
       "3           3  4-144083-A-16.wav     16     0.785159        2.127163   \n",
       "4           4   3-51376-A-42.wav     42     0.336802       13.715096   \n",
       "\n",
       "   spectral_contrast   tonnetz       mfcc1       mfcc2      mfcc3  ...  \\\n",
       "0          15.341950 -0.000752  -48.946632   55.206245  -7.047971  ...   \n",
       "1          23.631527  0.027424 -549.716125  -63.588486 -38.799469  ...   \n",
       "2          19.271990 -0.004003 -201.649429  101.756508   6.351685  ...   \n",
       "3          16.364365 -0.003129 -145.423508  181.667603 -20.035183  ...   \n",
       "4          21.548095 -0.013215 -179.293137  170.124237 -58.605957  ...   \n",
       "\n",
       "      mfcc31     mfcc32     mfcc33    mfcc34    mfcc35    mfcc36    mfcc37  \\\n",
       "0  -3.782364   1.401003  -2.568921  2.393073 -1.468146  2.555113 -1.484496   \n",
       "1 -17.556175  13.050779  -5.685339  0.622180 -2.255047 -0.585254  4.197667   \n",
       "2  -8.344519  -4.245569 -10.650942 -5.038177 -5.601541 -0.002323 -5.730710   \n",
       "3  -4.562034   0.138662  -3.261474  1.118976 -1.880353  2.038065 -0.930130   \n",
       "4   6.506222   1.723845  -5.902114 -5.278167 -1.353401 -0.057298  2.746562   \n",
       "\n",
       "     mfcc38    mfcc39    mfcc40  \n",
       "0  2.290247 -2.209650  1.044895  \n",
       "1 -6.788848  5.966758 -6.047862  \n",
       "2 -3.703166 -6.499656 -0.611325  \n",
       "3  2.180940 -1.298151  0.926360  \n",
       "4  4.565757 -3.365773 -6.954345  \n",
       "\n",
       "[5 rows x 47 columns]"
      ]
     },
     "execution_count": 159,
     "metadata": {},
     "output_type": "execute_result"
    }
   ],
   "source": [
    "data=pd.read_csv(PATH_CSV)\n",
    "data.head()"
   ]
  },
  {
   "cell_type": "code",
   "execution_count": null,
   "metadata": {},
   "outputs": [],
   "source": [
    "def new_column(csv_file):\n",
    "    label_2 = pd.Series([]) \n",
    "  \n",
    "    for i in range(len(data)): \n",
    "        if data['label'][i] == 0: \n",
    "            label_2[i]='negative'\n",
    "  \n",
    "        elif data['label'][i] == 7: \n",
    "            label_2[i]='unknown'\n",
    "  \n",
    "        elif data['label'][i] == 10: \n",
    "            label_2[i]='unknown'\n",
    "        \n",
    "        elif data['label'][i] == 11: \n",
    "            label_2[i]='unknown'\n",
    "    \n",
    "        elif data['label'][i] == 13: \n",
    "            label_2[i]='unknown'\n",
    "        \n",
    "        elif data['label'][i] == 14: \n",
    "            label_2[i]='unknown'\n",
    "    \n",
    "        elif data['label'][i] == 16: \n",
    "            label_2[i]='unknown'\n",
    "        \n",
    "        elif data['label'][i] == 20: \n",
    "            label_2[i]='negative'\n",
    "        \n",
    "        elif data['label'][i] == 36: \n",
    "            label_2[i]='negative'\n",
    "    \n",
    "        elif data['label'][i] == 42: \n",
    "            label_2[i]='negative'\n",
    "        \n",
    "        elif data['label'][i] == 48: \n",
    "            label_2[i]='negative'\n",
    "        \n",
    "        elif data['label'][i] == 51: \n",
    "            label_2[i]='positive'\n",
    "        \n",
    "        elif data['label'][i] == 52: \n",
    "            label_2[i]='positive'\n",
    "  \n",
    "        else: \n",
    "            label_2[i]= data['label'][i] \n",
    "  \n",
    "    # inserting new column with values of list made above         \n",
    "    data.insert(2, 'label_2', label_2) \n",
    "    \n",
    "new_column(data)"
   ]
  },
  {
   "cell_type": "code",
   "execution_count": null,
   "metadata": {},
   "outputs": [
    {
     "data": {
      "text/html": [
       "<div>\n",
       "<style scoped>\n",
       "    .dataframe tbody tr th:only-of-type {\n",
       "        vertical-align: middle;\n",
       "    }\n",
       "\n",
       "    .dataframe tbody tr th {\n",
       "        vertical-align: top;\n",
       "    }\n",
       "\n",
       "    .dataframe thead th {\n",
       "        text-align: right;\n",
       "    }\n",
       "</style>\n",
       "<table border=\"1\" class=\"dataframe\">\n",
       "  <thead>\n",
       "    <tr style=\"text-align: right;\">\n",
       "      <th></th>\n",
       "      <th>Unnamed: 0</th>\n",
       "      <th>filename</th>\n",
       "      <th>label_2</th>\n",
       "      <th>label</th>\n",
       "      <th>chroma_stft</th>\n",
       "      <th>mel_spectogram</th>\n",
       "      <th>spectral_contrast</th>\n",
       "      <th>tonnetz</th>\n",
       "      <th>mfcc1</th>\n",
       "      <th>mfcc2</th>\n",
       "      <th>...</th>\n",
       "      <th>mfcc31</th>\n",
       "      <th>mfcc32</th>\n",
       "      <th>mfcc33</th>\n",
       "      <th>mfcc34</th>\n",
       "      <th>mfcc35</th>\n",
       "      <th>mfcc36</th>\n",
       "      <th>mfcc37</th>\n",
       "      <th>mfcc38</th>\n",
       "      <th>mfcc39</th>\n",
       "      <th>mfcc40</th>\n",
       "    </tr>\n",
       "  </thead>\n",
       "  <tbody>\n",
       "    <tr>\n",
       "      <th>0</th>\n",
       "      <td>0</td>\n",
       "      <td>4-164206-A-10.wav</td>\n",
       "      <td>unknown</td>\n",
       "      <td>10</td>\n",
       "      <td>0.868969</td>\n",
       "      <td>0.861374</td>\n",
       "      <td>15.341950</td>\n",
       "      <td>-0.000752</td>\n",
       "      <td>-48.946632</td>\n",
       "      <td>55.206245</td>\n",
       "      <td>...</td>\n",
       "      <td>-3.782364</td>\n",
       "      <td>1.401003</td>\n",
       "      <td>-2.568921</td>\n",
       "      <td>2.393073</td>\n",
       "      <td>-1.468146</td>\n",
       "      <td>2.555113</td>\n",
       "      <td>-1.484496</td>\n",
       "      <td>2.290247</td>\n",
       "      <td>-2.209650</td>\n",
       "      <td>1.044895</td>\n",
       "    </tr>\n",
       "    <tr>\n",
       "      <th>1</th>\n",
       "      <td>1</td>\n",
       "      <td>2-83270-A-13.wav</td>\n",
       "      <td>unknown</td>\n",
       "      <td>13</td>\n",
       "      <td>0.218590</td>\n",
       "      <td>0.031675</td>\n",
       "      <td>23.631527</td>\n",
       "      <td>0.027424</td>\n",
       "      <td>-549.716125</td>\n",
       "      <td>-63.588486</td>\n",
       "      <td>...</td>\n",
       "      <td>-17.556175</td>\n",
       "      <td>13.050779</td>\n",
       "      <td>-5.685339</td>\n",
       "      <td>0.622180</td>\n",
       "      <td>-2.255047</td>\n",
       "      <td>-0.585254</td>\n",
       "      <td>4.197667</td>\n",
       "      <td>-6.788848</td>\n",
       "      <td>5.966758</td>\n",
       "      <td>-6.047862</td>\n",
       "    </tr>\n",
       "    <tr>\n",
       "      <th>2</th>\n",
       "      <td>2</td>\n",
       "      <td>3-110913-A-7.wav</td>\n",
       "      <td>unknown</td>\n",
       "      <td>7</td>\n",
       "      <td>0.658248</td>\n",
       "      <td>0.830945</td>\n",
       "      <td>19.271990</td>\n",
       "      <td>-0.004003</td>\n",
       "      <td>-201.649429</td>\n",
       "      <td>101.756508</td>\n",
       "      <td>...</td>\n",
       "      <td>-8.344519</td>\n",
       "      <td>-4.245569</td>\n",
       "      <td>-10.650942</td>\n",
       "      <td>-5.038177</td>\n",
       "      <td>-5.601541</td>\n",
       "      <td>-0.002323</td>\n",
       "      <td>-5.730710</td>\n",
       "      <td>-3.703166</td>\n",
       "      <td>-6.499656</td>\n",
       "      <td>-0.611325</td>\n",
       "    </tr>\n",
       "    <tr>\n",
       "      <th>3</th>\n",
       "      <td>3</td>\n",
       "      <td>4-144083-A-16.wav</td>\n",
       "      <td>unknown</td>\n",
       "      <td>16</td>\n",
       "      <td>0.785159</td>\n",
       "      <td>2.127163</td>\n",
       "      <td>16.364365</td>\n",
       "      <td>-0.003129</td>\n",
       "      <td>-145.423508</td>\n",
       "      <td>181.667603</td>\n",
       "      <td>...</td>\n",
       "      <td>-4.562034</td>\n",
       "      <td>0.138662</td>\n",
       "      <td>-3.261474</td>\n",
       "      <td>1.118976</td>\n",
       "      <td>-1.880353</td>\n",
       "      <td>2.038065</td>\n",
       "      <td>-0.930130</td>\n",
       "      <td>2.180940</td>\n",
       "      <td>-1.298151</td>\n",
       "      <td>0.926360</td>\n",
       "    </tr>\n",
       "    <tr>\n",
       "      <th>4</th>\n",
       "      <td>4</td>\n",
       "      <td>3-51376-A-42.wav</td>\n",
       "      <td>negative</td>\n",
       "      <td>42</td>\n",
       "      <td>0.336802</td>\n",
       "      <td>13.715096</td>\n",
       "      <td>21.548095</td>\n",
       "      <td>-0.013215</td>\n",
       "      <td>-179.293137</td>\n",
       "      <td>170.124237</td>\n",
       "      <td>...</td>\n",
       "      <td>6.506222</td>\n",
       "      <td>1.723845</td>\n",
       "      <td>-5.902114</td>\n",
       "      <td>-5.278167</td>\n",
       "      <td>-1.353401</td>\n",
       "      <td>-0.057298</td>\n",
       "      <td>2.746562</td>\n",
       "      <td>4.565757</td>\n",
       "      <td>-3.365773</td>\n",
       "      <td>-6.954345</td>\n",
       "    </tr>\n",
       "  </tbody>\n",
       "</table>\n",
       "<p>5 rows × 48 columns</p>\n",
       "</div>"
      ],
      "text/plain": [
       "   Unnamed: 0           filename   label_2  label  chroma_stft  \\\n",
       "0           0  4-164206-A-10.wav   unknown     10     0.868969   \n",
       "1           1   2-83270-A-13.wav   unknown     13     0.218590   \n",
       "2           2   3-110913-A-7.wav   unknown      7     0.658248   \n",
       "3           3  4-144083-A-16.wav   unknown     16     0.785159   \n",
       "4           4   3-51376-A-42.wav  negative     42     0.336802   \n",
       "\n",
       "   mel_spectogram  spectral_contrast   tonnetz       mfcc1       mfcc2  ...  \\\n",
       "0        0.861374          15.341950 -0.000752  -48.946632   55.206245  ...   \n",
       "1        0.031675          23.631527  0.027424 -549.716125  -63.588486  ...   \n",
       "2        0.830945          19.271990 -0.004003 -201.649429  101.756508  ...   \n",
       "3        2.127163          16.364365 -0.003129 -145.423508  181.667603  ...   \n",
       "4       13.715096          21.548095 -0.013215 -179.293137  170.124237  ...   \n",
       "\n",
       "      mfcc31     mfcc32     mfcc33    mfcc34    mfcc35    mfcc36    mfcc37  \\\n",
       "0  -3.782364   1.401003  -2.568921  2.393073 -1.468146  2.555113 -1.484496   \n",
       "1 -17.556175  13.050779  -5.685339  0.622180 -2.255047 -0.585254  4.197667   \n",
       "2  -8.344519  -4.245569 -10.650942 -5.038177 -5.601541 -0.002323 -5.730710   \n",
       "3  -4.562034   0.138662  -3.261474  1.118976 -1.880353  2.038065 -0.930130   \n",
       "4   6.506222   1.723845  -5.902114 -5.278167 -1.353401 -0.057298  2.746562   \n",
       "\n",
       "     mfcc38    mfcc39    mfcc40  \n",
       "0  2.290247 -2.209650  1.044895  \n",
       "1 -6.788848  5.966758 -6.047862  \n",
       "2 -3.703166 -6.499656 -0.611325  \n",
       "3  2.180940 -1.298151  0.926360  \n",
       "4  4.565757 -3.365773 -6.954345  \n",
       "\n",
       "[5 rows x 48 columns]"
      ]
     },
     "execution_count": 161,
     "metadata": {},
     "output_type": "execute_result"
    }
   ],
   "source": [
    "data.head()"
   ]
  },
  {
   "cell_type": "code",
   "execution_count": null,
   "metadata": {},
   "outputs": [
    {
     "name": "stdout",
     "output_type": "stream",
     "text": [
      "X: (519, 44)\n",
      "Y: (519,)\n"
     ]
    }
   ],
   "source": [
    "def load_data(data):  \n",
    "    X = data.drop([data.columns[0],'filename', 'label', 'label_2'],axis=1) #droping first column, filename column and label column\n",
    "    Y= data['label_2'] \n",
    "    print('X:', X.shape)\n",
    "    print('Y:', Y.shape)\n",
    "    return (X, Y)\n",
    "\n",
    "(X, Y) = load_data(data)"
   ]
  },
  {
   "cell_type": "code",
   "execution_count": null,
   "metadata": {},
   "outputs": [
    {
     "name": "stdout",
     "output_type": "stream",
     "text": [
      "X_train (415, 44)\n",
      "X_test: (104, 44)\n",
      "y_train: (415,)\n",
      "y_test: (104,)\n"
     ]
    }
   ],
   "source": [
    "X_train, X_test, y_train, y_test = train_test_split(X, Y, test_size=0.2, stratify=Y, random_state=1)\n",
    "\n",
    "print('X_train', X_train.shape)\n",
    "print(\"X_test:\", X_test.shape)\n",
    "print(\"y_train:\", y_train.shape)\n",
    "print(\"y_test:\", y_test.shape)"
   ]
  },
  {
   "cell_type": "code",
   "execution_count": null,
   "metadata": {},
   "outputs": [
    {
     "name": "stdout",
     "output_type": "stream",
     "text": [
      "X_test: (104, 44)\n",
      "X_train: (415, 44)\n",
      "Y_train: (415, 3)\n",
      "Y_test: (104, 3)\n",
      "train: (415,)\n",
      "test: (104,)\n"
     ]
    }
   ],
   "source": [
    "enc = OneHotEncoder(handle_unknown='ignore')\n",
    "Y_train = enc.fit_transform(y_train.values.reshape(-1,1)).toarray()\n",
    "Y_test = enc.fit_transform(y_test.values.reshape(-1,1)).toarray()\n",
    "train = np.argmax(Y_train,axis =  1)\n",
    "test = np.argmax(Y_test, axis = 1)\n",
    "print('X_test:', X_test.shape)\n",
    "print('X_train:', X_train.shape)\n",
    "print('Y_train:', Y_train.shape)\n",
    "print('Y_test:', Y_test.shape)\n",
    "print('train:', train.shape)\n",
    "print('test:', test.shape)"
   ]
  },
  {
   "cell_type": "code",
   "execution_count": null,
   "metadata": {},
   "outputs": [
    {
     "name": "stdout",
     "output_type": "stream",
     "text": [
      "Training accuracy:         100.00%\n",
      "Validation accuracy:       92.31%\n"
     ]
    }
   ],
   "source": [
    "clf = XGBClassifier(learning_rate=0.1,\n",
    "                    n_estimators=400,\n",
    "                    max_depth=5,\n",
    "                    min_child_weight=1,\n",
    "                    gamma=0,\n",
    "                    subsample=0.8,\n",
    "                    colsample_bytree=0.8,\n",
    "                    objective='multi:softprob',\n",
    "                    nthread=4,\n",
    "                    num_class=3,\n",
    "                    seed=27,\n",
    "                    predictor = 'gpu_predictor',\n",
    "                    tree_method='gpu_hist',\n",
    "                    gpu_id=0)\n",
    "\n",
    "\n",
    "clf.fit(X_train,train.ravel(),\n",
    "            verbose=False,\n",
    "            early_stopping_rounds=50,\n",
    "            eval_metric='merror',\n",
    "            eval_set=[(X_test, test.ravel())])\n",
    "\n",
    "y_predict = clf.predict(X_test)\n",
    "y_train_predict = clf.predict(X_train)\n",
    "\n",
    "print(f'Training accuracy:        {accuracy_score(train,  y_train_predict)*100: .2f}%')\n",
    "print(f'Validation accuracy:      {accuracy_score(test, y_predict)*100: .2f}%')\n",
    "\n",
    "clf.save_model(\"model.json\")\n",
    "\n"
   ]
  },
  {
   "cell_type": "code",
   "execution_count": null,
   "metadata": {},
   "outputs": [],
   "source": [
    "model = XGBClassifier()\n",
    "model = model.load_model(\"model.json\")"
   ]
  },
  {
   "cell_type": "code",
   "execution_count": null,
   "metadata": {},
   "outputs": [
    {
     "name": "stdout",
     "output_type": "stream",
     "text": [
      "split at [ 0:5000] ms\n",
      "split at [ 5000:10000] ms\n",
      "split at [ 10000:15000] ms\n",
      "split at [ 15000:20000] ms\n",
      "split at [ 20000:25000] ms\n",
      "split at [ 25000:30000] ms\n"
     ]
    }
   ],
   "source": [
    "from pydub import AudioSegment\n",
    "\n",
    "os.makedirs('./classical_timestamps', exist_ok=True)\n",
    "\n",
    "audio_file= \"./classical.00010.wav\"\n",
    "audio = AudioSegment.from_wav(audio_file)\n",
    "list_of_timestamps = [5, 10, 15, 20, 25, 30] #and so on in *seconds*\n",
    "\n",
    "start = 0\n",
    "for  idx,t in enumerate(list_of_timestamps):\n",
    "    #break loop if at last element of list\n",
    "    if idx == len(list_of_timestamps):\n",
    "        break\n",
    "\n",
    "    end = t * 1000 #pydub works in millisec\n",
    "    print(\"split at [ {}:{}] ms\".format(start, end))\n",
    "    audio_chunk=audio[start:end]\n",
    "    audio_chunk.export( \"./classical_timestamps/classical_{}.wav\".format(end), format=\"wav\") \n",
    "\n",
    "    start = end  #pydub works in millisec"
   ]
  },
  {
   "cell_type": "code",
   "execution_count": null,
   "metadata": {},
   "outputs": [
    {
     "name": "stdout",
     "output_type": "stream",
     "text": [
      "['filename', 'label', 'chroma_stft', 'mel_spectogram', 'spectral_contrast', 'tonnetz', ' mfcc1', ' mfcc2', ' mfcc3', ' mfcc4', ' mfcc5', ' mfcc6', ' mfcc7', ' mfcc8', ' mfcc9', ' mfcc10', ' mfcc11', ' mfcc12', ' mfcc13', ' mfcc14', ' mfcc15', ' mfcc16', ' mfcc17', ' mfcc18', ' mfcc19', ' mfcc20', ' mfcc21', ' mfcc22', ' mfcc23', ' mfcc24', ' mfcc25', ' mfcc26', ' mfcc27', ' mfcc28', ' mfcc29', ' mfcc30', ' mfcc31', ' mfcc32', ' mfcc33', ' mfcc34', ' mfcc35', ' mfcc36', ' mfcc37', ' mfcc38', ' mfcc39', ' mfcc40']\n"
     ]
    }
   ],
   "source": [
    "#csv\n",
    "def create_csv_header():\n",
    "    header = ['filename','label','chroma_stft','mel_spectogram','spectral_contrast','tonnetz']\n",
    "    for i in range(1, 41):\n",
    "        header.append(f' mfcc{i}')\n",
    "    return header\n",
    "\n",
    "\n",
    "header = create_csv_header()\n",
    "print(header)"
   ]
  },
  {
   "cell_type": "code",
   "execution_count": null,
   "metadata": {},
   "outputs": [],
   "source": [
    "PATH_CSV_CLASSICAL_TIMESTAMPS = './features_classical_timestamps.csv'\n",
    "PATH_CLASSICAL_TIMESTAMPS = './classical_timestamps'"
   ]
  },
  {
   "cell_type": "code",
   "execution_count": null,
   "metadata": {},
   "outputs": [
    {
     "ename": "NotImplementedError",
     "evalue": "Cannot load filter definition for kaiser_fast",
     "output_type": "error",
     "traceback": [
      "\u001b[1;31m---------------------------------------------------------------------------\u001b[0m",
      "\u001b[1;31mFileNotFoundError\u001b[0m                         Traceback (most recent call last)",
      "\u001b[1;32mc:\\Users\\pc\\Desktop\\Modelo Diana Martins\\env\\lib\\site-packages\\resampy\\filters.py\u001b[0m in \u001b[0;36mget_filter\u001b[1;34m(name_or_function, **kwargs)\u001b[0m\n",
      "\u001b[1;32mc:\\Users\\pc\\Desktop\\Modelo Diana Martins\\env\\lib\\site-packages\\resampy\\filters.py\u001b[0m in \u001b[0;36mload_filter\u001b[1;34m(filter_name)\u001b[0m\n",
      "\u001b[1;32mc:\\Users\\pc\\Desktop\\Modelo Diana Martins\\env\\lib\\site-packages\\numpy\\lib\\npyio.py\u001b[0m in \u001b[0;36mload\u001b[1;34m(file, mmap_mode, allow_pickle, fix_imports, encoding)\u001b[0m\n",
      "\u001b[1;31mFileNotFoundError\u001b[0m: [Errno 2] No such file or directory: 'c:\\\\Users\\\\pc\\\\Desktop\\\\Modelo Diana Martins\\\\env\\\\lib\\\\site-packages\\\\resampy\\\\data\\\\kaiser_fast.npz'",
      "\nDuring handling of the above exception, another exception occurred:\n",
      "\u001b[1;31mNotImplementedError\u001b[0m                       Traceback (most recent call last)",
      "\u001b[1;32m~\\AppData\\Local\\Temp/ipykernel_15556/3279633929.py\u001b[0m in \u001b[0;36m<module>\u001b[1;34m\u001b[0m\n\u001b[0;32m     24\u001b[0m         \u001b[0mdf\u001b[0m\u001b[1;33m.\u001b[0m\u001b[0mto_csv\u001b[0m\u001b[1;33m(\u001b[0m\u001b[0mpath_csv\u001b[0m\u001b[1;33m)\u001b[0m\u001b[1;33m\u001b[0m\u001b[1;33m\u001b[0m\u001b[0m\n\u001b[0;32m     25\u001b[0m \u001b[1;33m\u001b[0m\u001b[0m\n\u001b[1;32m---> 26\u001b[1;33m \u001b[0mgenerate_csv_music\u001b[0m\u001b[1;33m(\u001b[0m\u001b[0mPATH_CLASSICAL_TIMESTAMPS\u001b[0m\u001b[1;33m,\u001b[0m \u001b[0mPATH_CSV_CLASSICAL_TIMESTAMPS\u001b[0m\u001b[1;33m)\u001b[0m\u001b[1;33m\u001b[0m\u001b[1;33m\u001b[0m\u001b[0m\n\u001b[0m",
      "\u001b[1;32m~\\AppData\\Local\\Temp/ipykernel_15556/3279633929.py\u001b[0m in \u001b[0;36mgenerate_csv_music\u001b[1;34m(PATH_CLASSICAL_TIMESTAMPS, path_csv, file_ext)\u001b[0m\n\u001b[0;32m     15\u001b[0m             \u001b[0msound_data\u001b[0m\u001b[1;33m.\u001b[0m\u001b[0mappend\u001b[0m\u001b[1;33m(\u001b[0m\u001b[0mnp\u001b[0m\u001b[1;33m.\u001b[0m\u001b[0mmean\u001b[0m\u001b[1;33m(\u001b[0m\u001b[0mlibrosa\u001b[0m\u001b[1;33m.\u001b[0m\u001b[0mfeature\u001b[0m\u001b[1;33m.\u001b[0m\u001b[0mmelspectrogram\u001b[0m\u001b[1;33m(\u001b[0m\u001b[0mX\u001b[0m\u001b[1;33m,\u001b[0m \u001b[0msr\u001b[0m\u001b[1;33m=\u001b[0m\u001b[0msr\u001b[0m\u001b[1;33m)\u001b[0m\u001b[1;33m)\u001b[0m\u001b[1;33m)\u001b[0m\u001b[1;33m\u001b[0m\u001b[1;33m\u001b[0m\u001b[0m\n\u001b[0;32m     16\u001b[0m             \u001b[0msound_data\u001b[0m\u001b[1;33m.\u001b[0m\u001b[0mappend\u001b[0m\u001b[1;33m(\u001b[0m\u001b[0mnp\u001b[0m\u001b[1;33m.\u001b[0m\u001b[0mmean\u001b[0m\u001b[1;33m(\u001b[0m\u001b[0mlibrosa\u001b[0m\u001b[1;33m.\u001b[0m\u001b[0mfeature\u001b[0m\u001b[1;33m.\u001b[0m\u001b[0mspectral_contrast\u001b[0m\u001b[1;33m(\u001b[0m\u001b[0mS\u001b[0m\u001b[1;33m=\u001b[0m\u001b[0mstft\u001b[0m\u001b[1;33m,\u001b[0m \u001b[0msr\u001b[0m\u001b[1;33m=\u001b[0m\u001b[0msr\u001b[0m\u001b[1;33m)\u001b[0m\u001b[1;33m)\u001b[0m\u001b[1;33m)\u001b[0m\u001b[1;33m\u001b[0m\u001b[1;33m\u001b[0m\u001b[0m\n\u001b[1;32m---> 17\u001b[1;33m             \u001b[0msound_data\u001b[0m\u001b[1;33m.\u001b[0m\u001b[0mappend\u001b[0m\u001b[1;33m(\u001b[0m\u001b[0mnp\u001b[0m\u001b[1;33m.\u001b[0m\u001b[0mmean\u001b[0m\u001b[1;33m(\u001b[0m\u001b[0mlibrosa\u001b[0m\u001b[1;33m.\u001b[0m\u001b[0mfeature\u001b[0m\u001b[1;33m.\u001b[0m\u001b[0mtonnetz\u001b[0m\u001b[1;33m(\u001b[0m\u001b[0my\u001b[0m\u001b[1;33m=\u001b[0m\u001b[0mlibrosa\u001b[0m\u001b[1;33m.\u001b[0m\u001b[0meffects\u001b[0m\u001b[1;33m.\u001b[0m\u001b[0mharmonic\u001b[0m\u001b[1;33m(\u001b[0m\u001b[0mX\u001b[0m\u001b[1;33m)\u001b[0m\u001b[1;33m,\u001b[0m \u001b[0msr\u001b[0m\u001b[1;33m=\u001b[0m\u001b[0msr\u001b[0m\u001b[1;33m)\u001b[0m\u001b[1;33m)\u001b[0m\u001b[1;33m)\u001b[0m\u001b[1;33m\u001b[0m\u001b[1;33m\u001b[0m\u001b[0m\n\u001b[0m\u001b[0;32m     18\u001b[0m             \u001b[0mmfcc\u001b[0m \u001b[1;33m=\u001b[0m \u001b[0mlibrosa\u001b[0m\u001b[1;33m.\u001b[0m\u001b[0mfeature\u001b[0m\u001b[1;33m.\u001b[0m\u001b[0mmfcc\u001b[0m\u001b[1;33m(\u001b[0m\u001b[0my\u001b[0m\u001b[1;33m=\u001b[0m\u001b[0mX\u001b[0m\u001b[1;33m,\u001b[0m \u001b[0msr\u001b[0m\u001b[1;33m=\u001b[0m\u001b[0msr\u001b[0m\u001b[1;33m,\u001b[0m \u001b[0mn_mfcc\u001b[0m\u001b[1;33m=\u001b[0m\u001b[1;36m40\u001b[0m\u001b[1;33m)\u001b[0m\u001b[1;33m\u001b[0m\u001b[1;33m\u001b[0m\u001b[0m\n\u001b[0;32m     19\u001b[0m             \u001b[1;32mfor\u001b[0m \u001b[0me\u001b[0m \u001b[1;32min\u001b[0m \u001b[0mmfcc\u001b[0m\u001b[1;33m:\u001b[0m\u001b[1;33m\u001b[0m\u001b[1;33m\u001b[0m\u001b[0m\n",
      "\u001b[1;32mc:\\Users\\pc\\Desktop\\Modelo Diana Martins\\env\\lib\\site-packages\\librosa\\feature\\spectral.py\u001b[0m in \u001b[0;36mtonnetz\u001b[1;34m(y, sr, chroma, **kwargs)\u001b[0m\n",
      "\u001b[1;32mc:\\Users\\pc\\Desktop\\Modelo Diana Martins\\env\\lib\\site-packages\\librosa\\feature\\spectral.py\u001b[0m in \u001b[0;36mchroma_cqt\u001b[1;34m(y, sr, C, hop_length, fmin, norm, threshold, tuning, n_chroma, n_octaves, window, bins_per_octave, cqt_mode)\u001b[0m\n",
      "\u001b[1;32mc:\\Users\\pc\\Desktop\\Modelo Diana Martins\\env\\lib\\site-packages\\librosa\\core\\constantq.py\u001b[0m in \u001b[0;36mcqt\u001b[1;34m(y, sr, hop_length, fmin, n_bins, bins_per_octave, tuning, filter_scale, norm, sparsity, window, scale, pad_mode, res_type, dtype)\u001b[0m\n",
      "\u001b[1;32mc:\\Users\\pc\\Desktop\\Modelo Diana Martins\\env\\lib\\site-packages\\librosa\\core\\constantq.py\u001b[0m in \u001b[0;36mvqt\u001b[1;34m(y, sr, hop_length, fmin, n_bins, gamma, bins_per_octave, tuning, filter_scale, norm, sparsity, window, scale, pad_mode, res_type, dtype)\u001b[0m\n",
      "\u001b[1;32mc:\\Users\\pc\\Desktop\\Modelo Diana Martins\\env\\lib\\site-packages\\librosa\\core\\audio.py\u001b[0m in \u001b[0;36mresample\u001b[1;34m(y, orig_sr, target_sr, res_type, fix, scale, **kwargs)\u001b[0m\n",
      "\u001b[1;32mc:\\Users\\pc\\Desktop\\Modelo Diana Martins\\env\\lib\\site-packages\\resampy\\core.py\u001b[0m in \u001b[0;36mresample\u001b[1;34m(x, sr_orig, sr_new, axis, filter, **kwargs)\u001b[0m\n",
      "\u001b[1;32mc:\\Users\\pc\\Desktop\\Modelo Diana Martins\\env\\lib\\site-packages\\resampy\\filters.py\u001b[0m in \u001b[0;36mget_filter\u001b[1;34m(name_or_function, **kwargs)\u001b[0m\n",
      "\u001b[1;31mNotImplementedError\u001b[0m: Cannot load filter definition for kaiser_fast"
     ]
    }
   ],
   "source": [
    "def generate_csv_music(PATH_CLASSICAL_TIMESTAMPS, path_csv,file_ext='*.wav'):\n",
    "    if os.path.exists(path_csv):\n",
    "        print(f'CSV {path_csv} already exists')\n",
    "    else:\n",
    "        sound_cases=[]\n",
    "        for fn in glob.glob(os.path.join(PATH_CLASSICAL_TIMESTAMPS, file_ext)): #classical music\n",
    "            filename = fn.split('\\\\')[1]\n",
    "            label = 3\n",
    "            sound_data=[filename]\n",
    "            sound_data.append(label)\n",
    "            sound = f'{PATH_CLASSICAL_TIMESTAMPS}/{filename}'\n",
    "            X, sr = librosa.load(sound)\n",
    "            stft = np.abs(librosa.stft(X))\n",
    "            sound_data.append(np.mean(librosa.feature.chroma_stft(S=stft, sr=sr)))\n",
    "            sound_data.append(np.mean(librosa.feature.melspectrogram(X, sr=sr)))\n",
    "            sound_data.append(np.mean(librosa.feature.spectral_contrast(S=stft, sr=sr)))\n",
    "            sound_data.append(np.mean(librosa.feature.tonnetz(y=librosa.effects.harmonic(X), sr=sr)))\n",
    "            mfcc = librosa.feature.mfcc(y=X, sr=sr, n_mfcc=40)\n",
    "            for e in mfcc:\n",
    "                sound_data.append(np.mean(e))\n",
    "            sound_cases.append(sound_data)\n",
    "                \n",
    "        df = pd.DataFrame(sound_cases, columns = header) \n",
    "        df.to_csv(path_csv)\n",
    "        \n",
    "generate_csv_music(PATH_CLASSICAL_TIMESTAMPS, PATH_CSV_CLASSICAL_TIMESTAMPS)"
   ]
  },
  {
   "cell_type": "code",
   "execution_count": null,
   "metadata": {},
   "outputs": [
    {
     "data": {
      "text/html": [
       "<div>\n",
       "<style scoped>\n",
       "    .dataframe tbody tr th:only-of-type {\n",
       "        vertical-align: middle;\n",
       "    }\n",
       "\n",
       "    .dataframe tbody tr th {\n",
       "        vertical-align: top;\n",
       "    }\n",
       "\n",
       "    .dataframe thead th {\n",
       "        text-align: right;\n",
       "    }\n",
       "</style>\n",
       "<table border=\"1\" class=\"dataframe\">\n",
       "  <thead>\n",
       "    <tr style=\"text-align: right;\">\n",
       "      <th></th>\n",
       "      <th>Unnamed: 0</th>\n",
       "      <th>filename</th>\n",
       "      <th>label</th>\n",
       "      <th>chroma_stft</th>\n",
       "      <th>mel_spectogram</th>\n",
       "      <th>spectral_contrast</th>\n",
       "      <th>tonnetz</th>\n",
       "      <th>mfcc1</th>\n",
       "      <th>mfcc2</th>\n",
       "      <th>mfcc3</th>\n",
       "      <th>...</th>\n",
       "      <th>mfcc31</th>\n",
       "      <th>mfcc32</th>\n",
       "      <th>mfcc33</th>\n",
       "      <th>mfcc34</th>\n",
       "      <th>mfcc35</th>\n",
       "      <th>mfcc36</th>\n",
       "      <th>mfcc37</th>\n",
       "      <th>mfcc38</th>\n",
       "      <th>mfcc39</th>\n",
       "      <th>mfcc40</th>\n",
       "    </tr>\n",
       "  </thead>\n",
       "  <tbody>\n",
       "    <tr>\n",
       "      <th>0</th>\n",
       "      <td>0</td>\n",
       "      <td>classical_10000.wav</td>\n",
       "      <td>3</td>\n",
       "      <td>0.436572</td>\n",
       "      <td>0.431586</td>\n",
       "      <td>22.674332</td>\n",
       "      <td>0.010457</td>\n",
       "      <td>-272.59976</td>\n",
       "      <td>126.85941</td>\n",
       "      <td>-37.440510</td>\n",
       "      <td>...</td>\n",
       "      <td>-1.727285</td>\n",
       "      <td>-8.259519</td>\n",
       "      <td>-1.804429</td>\n",
       "      <td>-1.633463</td>\n",
       "      <td>2.685548</td>\n",
       "      <td>-2.607638</td>\n",
       "      <td>-3.702459</td>\n",
       "      <td>0.839746</td>\n",
       "      <td>-7.673559</td>\n",
       "      <td>-13.245373</td>\n",
       "    </tr>\n",
       "    <tr>\n",
       "      <th>1</th>\n",
       "      <td>1</td>\n",
       "      <td>classical_15000.wav</td>\n",
       "      <td>3</td>\n",
       "      <td>0.434985</td>\n",
       "      <td>0.048627</td>\n",
       "      <td>21.159292</td>\n",
       "      <td>-0.007166</td>\n",
       "      <td>-411.93182</td>\n",
       "      <td>137.60664</td>\n",
       "      <td>-28.331543</td>\n",
       "      <td>...</td>\n",
       "      <td>3.484850</td>\n",
       "      <td>-2.130914</td>\n",
       "      <td>-5.943365</td>\n",
       "      <td>-5.748062</td>\n",
       "      <td>-3.888671</td>\n",
       "      <td>-3.459251</td>\n",
       "      <td>-0.457856</td>\n",
       "      <td>0.749646</td>\n",
       "      <td>5.714317</td>\n",
       "      <td>5.458793</td>\n",
       "    </tr>\n",
       "    <tr>\n",
       "      <th>2</th>\n",
       "      <td>2</td>\n",
       "      <td>classical_20000.wav</td>\n",
       "      <td>3</td>\n",
       "      <td>0.398473</td>\n",
       "      <td>0.439391</td>\n",
       "      <td>23.392819</td>\n",
       "      <td>-0.031331</td>\n",
       "      <td>-270.98510</td>\n",
       "      <td>129.79470</td>\n",
       "      <td>-33.484905</td>\n",
       "      <td>...</td>\n",
       "      <td>10.258470</td>\n",
       "      <td>-8.598377</td>\n",
       "      <td>-8.882826</td>\n",
       "      <td>-2.746100</td>\n",
       "      <td>-0.378583</td>\n",
       "      <td>0.181252</td>\n",
       "      <td>3.426939</td>\n",
       "      <td>-5.152680</td>\n",
       "      <td>-0.415268</td>\n",
       "      <td>4.147439</td>\n",
       "    </tr>\n",
       "    <tr>\n",
       "      <th>3</th>\n",
       "      <td>3</td>\n",
       "      <td>classical_25000.wav</td>\n",
       "      <td>3</td>\n",
       "      <td>0.422367</td>\n",
       "      <td>0.338780</td>\n",
       "      <td>23.293577</td>\n",
       "      <td>0.014714</td>\n",
       "      <td>-273.61087</td>\n",
       "      <td>132.17610</td>\n",
       "      <td>-39.424362</td>\n",
       "      <td>...</td>\n",
       "      <td>6.193310</td>\n",
       "      <td>-4.851325</td>\n",
       "      <td>-5.776797</td>\n",
       "      <td>-5.848343</td>\n",
       "      <td>-4.897565</td>\n",
       "      <td>-2.433606</td>\n",
       "      <td>-2.553839</td>\n",
       "      <td>-2.885394</td>\n",
       "      <td>6.430138</td>\n",
       "      <td>0.236686</td>\n",
       "    </tr>\n",
       "    <tr>\n",
       "      <th>4</th>\n",
       "      <td>4</td>\n",
       "      <td>classical_30000.wav</td>\n",
       "      <td>3</td>\n",
       "      <td>0.367448</td>\n",
       "      <td>0.338380</td>\n",
       "      <td>24.099028</td>\n",
       "      <td>-0.006981</td>\n",
       "      <td>-284.87933</td>\n",
       "      <td>126.03677</td>\n",
       "      <td>-42.831450</td>\n",
       "      <td>...</td>\n",
       "      <td>0.748452</td>\n",
       "      <td>-6.972674</td>\n",
       "      <td>-2.332934</td>\n",
       "      <td>-5.582502</td>\n",
       "      <td>-1.716171</td>\n",
       "      <td>-1.201393</td>\n",
       "      <td>1.665013</td>\n",
       "      <td>1.852122</td>\n",
       "      <td>-2.217466</td>\n",
       "      <td>-1.797750</td>\n",
       "    </tr>\n",
       "  </tbody>\n",
       "</table>\n",
       "<p>5 rows × 47 columns</p>\n",
       "</div>"
      ],
      "text/plain": [
       "   Unnamed: 0             filename  label  chroma_stft  mel_spectogram  \\\n",
       "0           0  classical_10000.wav      3     0.436572        0.431586   \n",
       "1           1  classical_15000.wav      3     0.434985        0.048627   \n",
       "2           2  classical_20000.wav      3     0.398473        0.439391   \n",
       "3           3  classical_25000.wav      3     0.422367        0.338780   \n",
       "4           4  classical_30000.wav      3     0.367448        0.338380   \n",
       "\n",
       "   spectral_contrast   tonnetz      mfcc1      mfcc2      mfcc3  ...  \\\n",
       "0          22.674332  0.010457 -272.59976  126.85941 -37.440510  ...   \n",
       "1          21.159292 -0.007166 -411.93182  137.60664 -28.331543  ...   \n",
       "2          23.392819 -0.031331 -270.98510  129.79470 -33.484905  ...   \n",
       "3          23.293577  0.014714 -273.61087  132.17610 -39.424362  ...   \n",
       "4          24.099028 -0.006981 -284.87933  126.03677 -42.831450  ...   \n",
       "\n",
       "      mfcc31    mfcc32    mfcc33    mfcc34    mfcc35    mfcc36    mfcc37  \\\n",
       "0  -1.727285 -8.259519 -1.804429 -1.633463  2.685548 -2.607638 -3.702459   \n",
       "1   3.484850 -2.130914 -5.943365 -5.748062 -3.888671 -3.459251 -0.457856   \n",
       "2  10.258470 -8.598377 -8.882826 -2.746100 -0.378583  0.181252  3.426939   \n",
       "3   6.193310 -4.851325 -5.776797 -5.848343 -4.897565 -2.433606 -2.553839   \n",
       "4   0.748452 -6.972674 -2.332934 -5.582502 -1.716171 -1.201393  1.665013   \n",
       "\n",
       "     mfcc38    mfcc39     mfcc40  \n",
       "0  0.839746 -7.673559 -13.245373  \n",
       "1  0.749646  5.714317   5.458793  \n",
       "2 -5.152680 -0.415268   4.147439  \n",
       "3 -2.885394  6.430138   0.236686  \n",
       "4  1.852122 -2.217466  -1.797750  \n",
       "\n",
       "[5 rows x 47 columns]"
      ]
     },
     "execution_count": 73,
     "metadata": {},
     "output_type": "execute_result"
    }
   ],
   "source": [
    "DATA_3=pd.read_csv(PATH_CSV_CLASSICAL_TIMESTAMPS)\n",
    "DATA_3.head()"
   ]
  },
  {
   "cell_type": "code",
   "execution_count": null,
   "metadata": {},
   "outputs": [
    {
     "name": "stdout",
     "output_type": "stream",
     "text": [
      "X_TEST_CLASSICAL: (6, 44)\n",
      "Y_TEST_CLASSICAL: (6,)\n"
     ]
    }
   ],
   "source": [
    "def load_data(data):  \n",
    "    X_TEST_CLASSICAL = data.drop([data.columns[0],'filename', 'label'],axis=1)#droping first column, filename column and label column \n",
    "    Y_TEST_CLASSICAL = data['label']\n",
    "    print('X_TEST_CLASSICAL:', X_TEST_CLASSICAL.shape)\n",
    "    print('Y_TEST_CLASSICAL:', Y_TEST_CLASSICAL.shape)\n",
    "    return (X_TEST_CLASSICAL, Y_TEST_CLASSICAL)\n",
    "\n",
    "(X_TEST_CLASSICAL,Y_TEST_CLASSICAL) = load_data(DATA_3)"
   ]
  },
  {
   "cell_type": "code",
   "execution_count": null,
   "metadata": {},
   "outputs": [],
   "source": [
    "def largest_indices(ary, n):\n",
    "    \"\"\"Returns the n largest indices from a numpy array.\"\"\"\n",
    "    flat = ary.flatten()\n",
    "    indices = np.argpartition(flat, -n)[-n:]\n",
    "    indices = indices[np.argsort(-flat[indices])]\n",
    "    return indices"
   ]
  },
  {
   "cell_type": "code",
   "execution_count": null,
   "metadata": {},
   "outputs": [],
   "source": [
    "def truncate(n, decimals=0):\n",
    "    multiplier = 10 ** decimals\n",
    "    return int(n * multiplier) / multiplier"
   ]
  },
  {
   "cell_type": "code",
   "execution_count": null,
   "metadata": {},
   "outputs": [
    {
     "data": {
      "application/vnd.plotly.v1+json": {
       "config": {
        "plotlyServerURL": "https://plot.ly"
       },
       "data": [
        {
         "cells": {
          "align": "center",
          "fill": {
           "color": [
            "lightgrey",
            "white"
           ]
          },
          "values": [
           [
            3,
            3,
            3,
            3,
            3,
            3
           ],
           [
            2,
            2,
            2,
            2,
            2,
            2
           ],
           [
            0.622,
            0.832,
            0.712,
            0.669,
            0.701,
            0.72
           ],
           [
            0,
            0,
            0,
            0,
            0,
            0
           ],
           [
            0.337,
            0.139,
            0.243,
            0.284,
            0.26,
            0.221
           ],
           [
            1,
            1,
            1,
            1,
            1,
            1
           ],
           [
            0.04,
            0.028,
            0.044,
            0.045,
            0.037,
            0.057
           ]
          ]
         },
         "header": {
          "align": "center",
          "fill": {
           "color": "lavender"
          },
          "values": [
           "Y_test",
           "first_pred",
           "first_percent",
           "second_pred",
           "second_percent",
           "third_pred",
           "third_percent"
          ]
         },
         "type": "table"
        }
       ],
       "layout": {
        "template": {
         "data": {
          "bar": [
           {
            "error_x": {
             "color": "#2a3f5f"
            },
            "error_y": {
             "color": "#2a3f5f"
            },
            "marker": {
             "line": {
              "color": "#E5ECF6",
              "width": 0.5
             }
            },
            "type": "bar"
           }
          ],
          "barpolar": [
           {
            "marker": {
             "line": {
              "color": "#E5ECF6",
              "width": 0.5
             }
            },
            "type": "barpolar"
           }
          ],
          "carpet": [
           {
            "aaxis": {
             "endlinecolor": "#2a3f5f",
             "gridcolor": "white",
             "linecolor": "white",
             "minorgridcolor": "white",
             "startlinecolor": "#2a3f5f"
            },
            "baxis": {
             "endlinecolor": "#2a3f5f",
             "gridcolor": "white",
             "linecolor": "white",
             "minorgridcolor": "white",
             "startlinecolor": "#2a3f5f"
            },
            "type": "carpet"
           }
          ],
          "choropleth": [
           {
            "colorbar": {
             "outlinewidth": 0,
             "ticks": ""
            },
            "type": "choropleth"
           }
          ],
          "contour": [
           {
            "colorbar": {
             "outlinewidth": 0,
             "ticks": ""
            },
            "colorscale": [
             [
              0,
              "#0d0887"
             ],
             [
              0.1111111111111111,
              "#46039f"
             ],
             [
              0.2222222222222222,
              "#7201a8"
             ],
             [
              0.3333333333333333,
              "#9c179e"
             ],
             [
              0.4444444444444444,
              "#bd3786"
             ],
             [
              0.5555555555555556,
              "#d8576b"
             ],
             [
              0.6666666666666666,
              "#ed7953"
             ],
             [
              0.7777777777777778,
              "#fb9f3a"
             ],
             [
              0.8888888888888888,
              "#fdca26"
             ],
             [
              1,
              "#f0f921"
             ]
            ],
            "type": "contour"
           }
          ],
          "contourcarpet": [
           {
            "colorbar": {
             "outlinewidth": 0,
             "ticks": ""
            },
            "type": "contourcarpet"
           }
          ],
          "heatmap": [
           {
            "colorbar": {
             "outlinewidth": 0,
             "ticks": ""
            },
            "colorscale": [
             [
              0,
              "#0d0887"
             ],
             [
              0.1111111111111111,
              "#46039f"
             ],
             [
              0.2222222222222222,
              "#7201a8"
             ],
             [
              0.3333333333333333,
              "#9c179e"
             ],
             [
              0.4444444444444444,
              "#bd3786"
             ],
             [
              0.5555555555555556,
              "#d8576b"
             ],
             [
              0.6666666666666666,
              "#ed7953"
             ],
             [
              0.7777777777777778,
              "#fb9f3a"
             ],
             [
              0.8888888888888888,
              "#fdca26"
             ],
             [
              1,
              "#f0f921"
             ]
            ],
            "type": "heatmap"
           }
          ],
          "heatmapgl": [
           {
            "colorbar": {
             "outlinewidth": 0,
             "ticks": ""
            },
            "colorscale": [
             [
              0,
              "#0d0887"
             ],
             [
              0.1111111111111111,
              "#46039f"
             ],
             [
              0.2222222222222222,
              "#7201a8"
             ],
             [
              0.3333333333333333,
              "#9c179e"
             ],
             [
              0.4444444444444444,
              "#bd3786"
             ],
             [
              0.5555555555555556,
              "#d8576b"
             ],
             [
              0.6666666666666666,
              "#ed7953"
             ],
             [
              0.7777777777777778,
              "#fb9f3a"
             ],
             [
              0.8888888888888888,
              "#fdca26"
             ],
             [
              1,
              "#f0f921"
             ]
            ],
            "type": "heatmapgl"
           }
          ],
          "histogram": [
           {
            "marker": {
             "colorbar": {
              "outlinewidth": 0,
              "ticks": ""
             }
            },
            "type": "histogram"
           }
          ],
          "histogram2d": [
           {
            "colorbar": {
             "outlinewidth": 0,
             "ticks": ""
            },
            "colorscale": [
             [
              0,
              "#0d0887"
             ],
             [
              0.1111111111111111,
              "#46039f"
             ],
             [
              0.2222222222222222,
              "#7201a8"
             ],
             [
              0.3333333333333333,
              "#9c179e"
             ],
             [
              0.4444444444444444,
              "#bd3786"
             ],
             [
              0.5555555555555556,
              "#d8576b"
             ],
             [
              0.6666666666666666,
              "#ed7953"
             ],
             [
              0.7777777777777778,
              "#fb9f3a"
             ],
             [
              0.8888888888888888,
              "#fdca26"
             ],
             [
              1,
              "#f0f921"
             ]
            ],
            "type": "histogram2d"
           }
          ],
          "histogram2dcontour": [
           {
            "colorbar": {
             "outlinewidth": 0,
             "ticks": ""
            },
            "colorscale": [
             [
              0,
              "#0d0887"
             ],
             [
              0.1111111111111111,
              "#46039f"
             ],
             [
              0.2222222222222222,
              "#7201a8"
             ],
             [
              0.3333333333333333,
              "#9c179e"
             ],
             [
              0.4444444444444444,
              "#bd3786"
             ],
             [
              0.5555555555555556,
              "#d8576b"
             ],
             [
              0.6666666666666666,
              "#ed7953"
             ],
             [
              0.7777777777777778,
              "#fb9f3a"
             ],
             [
              0.8888888888888888,
              "#fdca26"
             ],
             [
              1,
              "#f0f921"
             ]
            ],
            "type": "histogram2dcontour"
           }
          ],
          "mesh3d": [
           {
            "colorbar": {
             "outlinewidth": 0,
             "ticks": ""
            },
            "type": "mesh3d"
           }
          ],
          "parcoords": [
           {
            "line": {
             "colorbar": {
              "outlinewidth": 0,
              "ticks": ""
             }
            },
            "type": "parcoords"
           }
          ],
          "pie": [
           {
            "automargin": true,
            "type": "pie"
           }
          ],
          "scatter": [
           {
            "marker": {
             "colorbar": {
              "outlinewidth": 0,
              "ticks": ""
             }
            },
            "type": "scatter"
           }
          ],
          "scatter3d": [
           {
            "line": {
             "colorbar": {
              "outlinewidth": 0,
              "ticks": ""
             }
            },
            "marker": {
             "colorbar": {
              "outlinewidth": 0,
              "ticks": ""
             }
            },
            "type": "scatter3d"
           }
          ],
          "scattercarpet": [
           {
            "marker": {
             "colorbar": {
              "outlinewidth": 0,
              "ticks": ""
             }
            },
            "type": "scattercarpet"
           }
          ],
          "scattergeo": [
           {
            "marker": {
             "colorbar": {
              "outlinewidth": 0,
              "ticks": ""
             }
            },
            "type": "scattergeo"
           }
          ],
          "scattergl": [
           {
            "marker": {
             "colorbar": {
              "outlinewidth": 0,
              "ticks": ""
             }
            },
            "type": "scattergl"
           }
          ],
          "scattermapbox": [
           {
            "marker": {
             "colorbar": {
              "outlinewidth": 0,
              "ticks": ""
             }
            },
            "type": "scattermapbox"
           }
          ],
          "scatterpolar": [
           {
            "marker": {
             "colorbar": {
              "outlinewidth": 0,
              "ticks": ""
             }
            },
            "type": "scatterpolar"
           }
          ],
          "scatterpolargl": [
           {
            "marker": {
             "colorbar": {
              "outlinewidth": 0,
              "ticks": ""
             }
            },
            "type": "scatterpolargl"
           }
          ],
          "scatterternary": [
           {
            "marker": {
             "colorbar": {
              "outlinewidth": 0,
              "ticks": ""
             }
            },
            "type": "scatterternary"
           }
          ],
          "surface": [
           {
            "colorbar": {
             "outlinewidth": 0,
             "ticks": ""
            },
            "colorscale": [
             [
              0,
              "#0d0887"
             ],
             [
              0.1111111111111111,
              "#46039f"
             ],
             [
              0.2222222222222222,
              "#7201a8"
             ],
             [
              0.3333333333333333,
              "#9c179e"
             ],
             [
              0.4444444444444444,
              "#bd3786"
             ],
             [
              0.5555555555555556,
              "#d8576b"
             ],
             [
              0.6666666666666666,
              "#ed7953"
             ],
             [
              0.7777777777777778,
              "#fb9f3a"
             ],
             [
              0.8888888888888888,
              "#fdca26"
             ],
             [
              1,
              "#f0f921"
             ]
            ],
            "type": "surface"
           }
          ],
          "table": [
           {
            "cells": {
             "fill": {
              "color": "#EBF0F8"
             },
             "line": {
              "color": "white"
             }
            },
            "header": {
             "fill": {
              "color": "#C8D4E3"
             },
             "line": {
              "color": "white"
             }
            },
            "type": "table"
           }
          ]
         },
         "layout": {
          "annotationdefaults": {
           "arrowcolor": "#2a3f5f",
           "arrowhead": 0,
           "arrowwidth": 1
          },
          "coloraxis": {
           "colorbar": {
            "outlinewidth": 0,
            "ticks": ""
           }
          },
          "colorscale": {
           "diverging": [
            [
             0,
             "#8e0152"
            ],
            [
             0.1,
             "#c51b7d"
            ],
            [
             0.2,
             "#de77ae"
            ],
            [
             0.3,
             "#f1b6da"
            ],
            [
             0.4,
             "#fde0ef"
            ],
            [
             0.5,
             "#f7f7f7"
            ],
            [
             0.6,
             "#e6f5d0"
            ],
            [
             0.7,
             "#b8e186"
            ],
            [
             0.8,
             "#7fbc41"
            ],
            [
             0.9,
             "#4d9221"
            ],
            [
             1,
             "#276419"
            ]
           ],
           "sequential": [
            [
             0,
             "#0d0887"
            ],
            [
             0.1111111111111111,
             "#46039f"
            ],
            [
             0.2222222222222222,
             "#7201a8"
            ],
            [
             0.3333333333333333,
             "#9c179e"
            ],
            [
             0.4444444444444444,
             "#bd3786"
            ],
            [
             0.5555555555555556,
             "#d8576b"
            ],
            [
             0.6666666666666666,
             "#ed7953"
            ],
            [
             0.7777777777777778,
             "#fb9f3a"
            ],
            [
             0.8888888888888888,
             "#fdca26"
            ],
            [
             1,
             "#f0f921"
            ]
           ],
           "sequentialminus": [
            [
             0,
             "#0d0887"
            ],
            [
             0.1111111111111111,
             "#46039f"
            ],
            [
             0.2222222222222222,
             "#7201a8"
            ],
            [
             0.3333333333333333,
             "#9c179e"
            ],
            [
             0.4444444444444444,
             "#bd3786"
            ],
            [
             0.5555555555555556,
             "#d8576b"
            ],
            [
             0.6666666666666666,
             "#ed7953"
            ],
            [
             0.7777777777777778,
             "#fb9f3a"
            ],
            [
             0.8888888888888888,
             "#fdca26"
            ],
            [
             1,
             "#f0f921"
            ]
           ]
          },
          "colorway": [
           "#636efa",
           "#EF553B",
           "#00cc96",
           "#ab63fa",
           "#FFA15A",
           "#19d3f3",
           "#FF6692",
           "#B6E880",
           "#FF97FF",
           "#FECB52"
          ],
          "font": {
           "color": "#2a3f5f"
          },
          "geo": {
           "bgcolor": "white",
           "lakecolor": "white",
           "landcolor": "#E5ECF6",
           "showlakes": true,
           "showland": true,
           "subunitcolor": "white"
          },
          "hoverlabel": {
           "align": "left"
          },
          "hovermode": "closest",
          "mapbox": {
           "style": "light"
          },
          "paper_bgcolor": "white",
          "plot_bgcolor": "#E5ECF6",
          "polar": {
           "angularaxis": {
            "gridcolor": "white",
            "linecolor": "white",
            "ticks": ""
           },
           "bgcolor": "#E5ECF6",
           "radialaxis": {
            "gridcolor": "white",
            "linecolor": "white",
            "ticks": ""
           }
          },
          "scene": {
           "xaxis": {
            "backgroundcolor": "#E5ECF6",
            "gridcolor": "white",
            "gridwidth": 2,
            "linecolor": "white",
            "showbackground": true,
            "ticks": "",
            "zerolinecolor": "white"
           },
           "yaxis": {
            "backgroundcolor": "#E5ECF6",
            "gridcolor": "white",
            "gridwidth": 2,
            "linecolor": "white",
            "showbackground": true,
            "ticks": "",
            "zerolinecolor": "white"
           },
           "zaxis": {
            "backgroundcolor": "#E5ECF6",
            "gridcolor": "white",
            "gridwidth": 2,
            "linecolor": "white",
            "showbackground": true,
            "ticks": "",
            "zerolinecolor": "white"
           }
          },
          "shapedefaults": {
           "line": {
            "color": "#2a3f5f"
           }
          },
          "ternary": {
           "aaxis": {
            "gridcolor": "white",
            "linecolor": "white",
            "ticks": ""
           },
           "baxis": {
            "gridcolor": "white",
            "linecolor": "white",
            "ticks": ""
           },
           "bgcolor": "#E5ECF6",
           "caxis": {
            "gridcolor": "white",
            "linecolor": "white",
            "ticks": ""
           }
          },
          "title": {
           "x": 0.05
          },
          "xaxis": {
           "automargin": true,
           "gridcolor": "white",
           "linecolor": "white",
           "ticks": "",
           "title": {
            "standoff": 15
           },
           "zerolinecolor": "white",
           "zerolinewidth": 2
          },
          "yaxis": {
           "automargin": true,
           "gridcolor": "white",
           "linecolor": "white",
           "ticks": "",
           "title": {
            "standoff": 15
           },
           "zerolinecolor": "white",
           "zerolinewidth": 2
          }
         }
        }
       }
      }
     },
     "metadata": {},
     "output_type": "display_data"
    },
    {
     "name": "stdout",
     "output_type": "stream",
     "text": [
      "Mean of timestamps: 2\n"
     ]
    }
   ],
   "source": [
    "def print_series_prediction_3(sound, label):\n",
    "    sounds = []\n",
    "    audio = []\n",
    "    first_preds = []\n",
    "    first_percent = []\n",
    "    second_preds = []\n",
    "    second_percent = []\n",
    "    third_preds = []\n",
    "    third_percent = []\n",
    "    for i in range(len(sound)): #para imprimir tabela de previsoes\n",
    "        predictions = model.predict_proba(sound)\n",
    "        predic = largest_indices(predictions[i], 3)\n",
    "        percentage = predictions[i][predic]\n",
    "        \n",
    "        sounds.append(label[i])\n",
    "        #audio.append(display(Audio(AUDIO, autoplay=True, rate=rate)))\n",
    "        first_preds.append((predic)[0])\n",
    "        first_percent.append(truncate(percentage[0],3))\n",
    "        second_preds.append((predic)[1])\n",
    "        second_percent.append(truncate(percentage[1],3))\n",
    "        third_preds.append((predic)[2])\n",
    "        third_percent.append(truncate(percentage[2],3))\n",
    "        mean_first = sum(first_preds)/ len(first_preds)\n",
    "        mean_first = int(round(mean_first))\n",
    "        mean_second = sum(second_preds)/ len(second_preds)\n",
    "        mean_second = int(round(mean_second))\n",
    "        mean_third = sum(third_preds)/ len(third_preds)\n",
    "        mean_third = int(round(mean_third))\n",
    "       \n",
    "    data = {'Y_test':  sounds, #'Sound': audio, 'mean_first' : mean_first, 'mean_second' : mean_second,'mean_third': mean_third \n",
    "            'first_pred': first_preds,\n",
    "            'first_percent': first_percent,\n",
    "            'second_pred': second_preds,\n",
    "            'second_percent': second_percent,\n",
    "            'third_pred': third_preds,\n",
    "            'third_percent': third_percent\n",
    "           }\n",
    "    \n",
    "    df = pd.DataFrame(data)\n",
    "    fig = go.Figure(data=[go.Table(\n",
    "    header=dict(values=list(df.columns),\n",
    "                fill_color='lavender',\n",
    "                align='center'),\n",
    "    cells=dict(values=[df.Y_test, df.first_pred, df.first_percent, df.second_pred, # df.Sound,df.mean_first,df.mean_second,df.mean_third\n",
    "                       df.second_percent, df.third_pred, df.third_percent],\n",
    "               #fill_color='lightgrey',\n",
    "               fill=dict(color=['lightgrey', 'white']),\n",
    "               align='center'))])\n",
    "\n",
    "    fig.show()\n",
    "    \n",
    "    print('Mean of timestamps:', mean_first)\n",
    "    \n",
    "    return df\n",
    "\n",
    "df = print_series_prediction_3(X_TEST_CLASSICAL, Y_TEST_CLASSICAL)"
   ]
  },
  {
   "cell_type": "code",
   "execution_count": null,
   "metadata": {},
   "outputs": [],
   "source": []
  }
 ],
 "metadata": {
  "interpreter": {
   "hash": "674a9efdd39a0462ee620821ba758b3cf2e682c2fa47bfbd8abc81f95411ec22"
  },
  "kernelspec": {
   "display_name": "Python 3.7.7 64-bit ('env': venv)",
   "name": "python3"
  },
  "language_info": {
   "codemirror_mode": {
    "name": "ipython",
    "version": 3
   },
   "file_extension": ".py",
   "mimetype": "text/x-python",
   "name": "python",
   "nbconvert_exporter": "python",
   "pygments_lexer": "ipython3",
   "version": "3.7.7"
  }
 },
 "nbformat": 4,
 "nbformat_minor": 4
}
