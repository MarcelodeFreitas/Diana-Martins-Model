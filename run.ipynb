{
 "cells": [
  {
   "cell_type": "code",
   "execution_count": null,
   "metadata": {},
   "outputs": [],
   "source": [
    "import sound_autism_fmdeploy as script\n",
    "\n",
    "modelpaths = [\n",
    "    {\n",
    "        \"name\": \"sound_autism_model.json\",\n",
    "        \"path\": \"./sound_autism_model.json\"\n",
    "    }\n",
    "]\n",
    "\n",
    "input_file_path = \"./input/WanderedToLA.wav\"\n",
    "output_directory_path = \"./output/\"\n",
    "output_file_name = \"output_result\""
   ]
  },
  {
   "cell_type": "code",
   "execution_count": null,
   "metadata": {},
   "outputs": [],
   "source": [
    "import os\n",
    "\n",
    "os.makedirs(\"output\", exist_ok=True)"
   ]
  },
  {
   "cell_type": "code",
   "execution_count": null,
   "metadata": {},
   "outputs": [],
   "source": [
    "script.load_models(modelpaths)"
   ]
  },
  {
   "cell_type": "code",
   "execution_count": null,
   "metadata": {},
   "outputs": [],
   "source": [
    "script.run(input_file_path, output_file_name, output_directory_path)"
   ]
  }
 ],
 "metadata": {
  "interpreter": {
   "hash": "674a9efdd39a0462ee620821ba758b3cf2e682c2fa47bfbd8abc81f95411ec22"
  },
  "kernelspec": {
   "display_name": "Python 3.7.7 64-bit ('env': venv)",
   "name": "python3"
  },
  "language_info": {
   "codemirror_mode": {
    "name": "ipython",
    "version": 3
   },
   "file_extension": ".py",
   "mimetype": "text/x-python",
   "name": "python",
   "nbconvert_exporter": "python",
   "pygments_lexer": "ipython3",
   "version": "3.7.7"
  },
  "orig_nbformat": 4
 },
 "nbformat": 4,
 "nbformat_minor": 2
}
