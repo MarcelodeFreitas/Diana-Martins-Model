{
 "cells": [
  {
   "cell_type": "code",
   "execution_count": 11,
   "metadata": {},
   "outputs": [],
   "source": [
    "import sound_autism_fmdeploy as script\n",
    "\n",
    "modelpaths = [\n",
    "    {\n",
    "        \"name\": \"sound_autism_model.json\",\n",
    "        \"path\": \"./sound_autism_model.json\"\n",
    "    }\n",
    "]\n",
    "\n",
    "input_file_path = \"./input/output_result.wav\"\n",
    "output_directory_path = \"./output/\"\n",
    "output_file_name = \"output_result\""
   ]
  },
  {
   "cell_type": "code",
   "execution_count": 12,
   "metadata": {},
   "outputs": [],
   "source": [
    "import os\n",
    "\n",
    "os.makedirs(\"output\", exist_ok=True)"
   ]
  },
  {
   "cell_type": "code",
   "execution_count": 13,
   "metadata": {},
   "outputs": [],
   "source": [
    "script.load_models(modelpaths)"
   ]
  },
  {
   "cell_type": "code",
   "execution_count": 14,
   "metadata": {},
   "outputs": [
    {
     "name": "stderr",
     "output_type": "stream",
     "text": [
      "c:\\Users\\pc\\Documents\\GitHub\\Diana-Martins-Model\\env\\lib\\site-packages\\librosa\\core\\spectrum.py:224: UserWarning: n_fft=1024 is too small for input signal of length=936\n",
      "  n_fft, y.shape[-1]\n"
     ]
    },
    {
     "name": "stdout",
     "output_type": "stream",
     "text": [
      "X_TEST: (75, 44)\n",
      "Y_TEST: (75,)\n"
     ]
    }
   ],
   "source": [
    "script.run(input_file_path, output_file_name, output_directory_path)"
   ]
  },
  {
   "cell_type": "code",
   "execution_count": 15,
   "metadata": {},
   "outputs": [],
   "source": [
    "import convert_mp3_to_wav as script2\n",
    "import os\n",
    "\n",
    "os.makedirs(\"output\", exist_ok=True)\n",
    "\n",
    "input_file_path = \"./input/SoundHelix-Song-1.mp3\"\n",
    "output_directory_path = \"./output/\"\n",
    "output_file_name = \"output_result\""
   ]
  },
  {
   "cell_type": "code",
   "execution_count": 16,
   "metadata": {},
   "outputs": [],
   "source": [
    "script2.run(input_file_path, output_file_name, output_directory_path)"
   ]
  }
 ],
 "metadata": {
  "interpreter": {
   "hash": "674a9efdd39a0462ee620821ba758b3cf2e682c2fa47bfbd8abc81f95411ec22"
  },
  "kernelspec": {
   "display_name": "Python 3.7.7 64-bit ('env': venv)",
   "name": "python3"
  },
  "language_info": {
   "codemirror_mode": {
    "name": "ipython",
    "version": 3
   },
   "file_extension": ".py",
   "mimetype": "text/x-python",
   "name": "python",
   "nbconvert_exporter": "python",
   "pygments_lexer": "ipython3",
   "version": "3.7.7"
  },
  "orig_nbformat": 4
 },
 "nbformat": 4,
 "nbformat_minor": 2
}
